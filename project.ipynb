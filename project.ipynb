{
 "cells": [
  {
   "cell_type": "markdown",
   "metadata": {
    "deletable": false,
    "editable": false,
    "nbgrader": {
     "cell_type": "markdown",
     "checksum": "97304501a4209b6859735ac54e8c46ce",
     "grade": false,
     "grade_id": "cell-277ac1db5743b98f",
     "locked": true,
     "schema_version": 3,
     "solution": false,
     "task": false
    }
   },
   "source": [
    "## Project : Classification\n",
    "\n",
    "#### Due Date: Saturday February 18 at 11:59PM ET\n",
    "\n",
    "In this assignment, we will learn to classify songs into genres based on lyrics. We will get practice with\n",
    "\n",
    "- processing strings\n",
    "- manipulating tables\n",
    "- generating charts\n",
    "  \n",
    "The questions guide you step-by-step through these approaches. \n",
    "\n",
    "#### Collaboration Policy\n",
    "\n",
    "You are prohibited from sharing your solutions. You are discouraged from providing guidance or assistance on questions. You should refrain from discussing the assignment with others. Consult the syllabus for information about policies surrounding misconduct."
   ]
  },
  {
   "cell_type": "markdown",
   "metadata": {},
   "source": [
    "**Name:** *Howard Hong*"
   ]
  },
  {
   "cell_type": "markdown",
   "metadata": {},
   "source": [
    "**NetId:** *yh2809*"
   ]
  },
  {
   "cell_type": "markdown",
   "metadata": {
    "deletable": false,
    "editable": false,
    "nbgrader": {
     "cell_type": "markdown",
     "checksum": "ce392bf5c8bd57e4449bf4368b72721b",
     "grade": false,
     "grade_id": "cell-24715915b4286eed",
     "locked": true,
     "schema_version": 3,
     "solution": false,
     "task": false
    }
   },
   "source": [
    "### Rubric\n",
    "\n",
    "Question | Points\n",
    "--- | ---\n",
    "Question 1.1 | 1\n",
    "Question 1.2 | 1\n",
    "Question 1.3 | 1\n",
    "Question 1.4 | 1\n",
    "Question 2.1 | 1\n",
    "Question 2.2 | 2\n",
    "Question 3.1 | 1\n",
    "Question 3.2 | 2\n",
    "Question 4.1 | 3\n",
    "Question 4.2 | 1\n",
    "Question 5.1 | 2\n",
    "Question 5.2 | 1\n",
    "Question 5.3 | 1\n",
    "Total | 18"
   ]
  },
  {
   "cell_type": "markdown",
   "metadata": {
    "deletable": false,
    "editable": false,
    "nbgrader": {
     "cell_type": "markdown",
     "checksum": "392d41c53b1828778943663648ee5847",
     "grade": false,
     "grade_id": "cell-d16eb9723104d3f7",
     "locked": true,
     "schema_version": 3,
     "solution": false,
     "task": false
    }
   },
   "source": [
    "We will study data adapted from the [Million Song Dataset](http://labrosa.ee.columbia.edu/millionsong/). \n",
    "\n",
    "<img src=\"image.PNG\" width=\"550px\">\n",
    "\n",
    "\n",
    "The data consists of \n",
    "\n",
    "- title of song\n",
    "- name of musical group \n",
    "- genre of song\n",
    "\n",
    "with songs from the `Country` and `Hip-hop` genres. \n",
    "\n",
    "We want to use song lyrics to distinguish the genres. We have compiled about 5,000 words relevant to song lyrics. Differences in the frequency of words will help us to classify songs as `Country` or `Hip-hop`.\n",
    "\n",
    "### 0. Load the Data\n",
    "\n",
    "For the assignment we will need the\n",
    "\n",
    "-  `numpy` package for manipulations of arrays\n",
    "-  `matplotlib` package for generating charts\n",
    "- `pandas` package for handling tables \n",
    "\n",
    "Moreover, we will need a helper function that generates charts with the `seaborn` package."
   ]
  },
  {
   "cell_type": "code",
   "execution_count": 1,
   "metadata": {
    "deletable": false,
    "editable": false,
    "nbgrader": {
     "cell_type": "code",
     "checksum": "eb27b47be008454fc84c00633fd83a38",
     "grade": false,
     "grade_id": "cell-78ed536253c2de08",
     "locked": true,
     "schema_version": 3,
     "solution": false,
     "task": false
    }
   },
   "outputs": [],
   "source": [
    "# import some packages\n",
    "\n",
    "import numpy as np\n",
    "import pandas as pd\n",
    "\n",
    "import matplotlib.pyplot as plt\n",
    "import seaborn as sns\n",
    "\n",
    "import helper_functions\n",
    "\n",
    "# change some settings\n",
    "\n",
    "pd.set_option('display.max_rows', 10)\n",
    "pd.set_option('display.max_columns', 8)\n",
    "plt.rcParams['figure.figsize'] = (10,8)\n",
    "\n",
    "# indicate paths to files\n",
    "\n",
    "import os \n",
    "home = os.environ[\"HOME\"]\n",
    "path_to_data = f\"{home}/shared/project/lyrics.csv\"\n",
    "path_to_dictionary = f\"{home}/shared/project/words.csv\""
   ]
  },
  {
   "cell_type": "markdown",
   "metadata": {
    "deletable": false,
    "editable": false,
    "nbgrader": {
     "cell_type": "markdown",
     "checksum": "cec874e5194777fcd730da443f5b2d01",
     "grade": false,
     "grade_id": "cell-8dd192040c37b775",
     "locked": true,
     "schema_version": 3,
     "solution": false,
     "task": false
    }
   },
   "source": [
    "Note that we changed some of the default settings in `pandas` with `set_option` and in `matplotlib` with `rcParams`. "
   ]
  },
  {
   "cell_type": "code",
   "execution_count": 2,
   "metadata": {
    "deletable": false,
    "editable": false,
    "nbgrader": {
     "cell_type": "code",
     "checksum": "c31b89f810a38752dfc070e5e2aef502",
     "grade": false,
     "grade_id": "cell-f6dcdf1e964e4d8f",
     "locked": true,
     "schema_version": 3,
     "solution": false,
     "task": false
    }
   },
   "outputs": [
    {
     "data": {
      "text/html": [
       "<div>\n",
       "<style scoped>\n",
       "    .dataframe tbody tr th:only-of-type {\n",
       "        vertical-align: middle;\n",
       "    }\n",
       "\n",
       "    .dataframe tbody tr th {\n",
       "        vertical-align: top;\n",
       "    }\n",
       "\n",
       "    .dataframe thead th {\n",
       "        text-align: right;\n",
       "    }\n",
       "</style>\n",
       "<table border=\"1\" class=\"dataframe\">\n",
       "  <thead>\n",
       "    <tr style=\"text-align: right;\">\n",
       "      <th></th>\n",
       "      <th>Title</th>\n",
       "      <th>Artist</th>\n",
       "      <th>Genre</th>\n",
       "      <th>i</th>\n",
       "      <th>...</th>\n",
       "      <th>santo</th>\n",
       "      <th>pe</th>\n",
       "      <th>gee</th>\n",
       "      <th>colleg</th>\n",
       "    </tr>\n",
       "  </thead>\n",
       "  <tbody>\n",
       "    <tr>\n",
       "      <th>0</th>\n",
       "      <td>Buried Alive</td>\n",
       "      <td>Hell Razah</td>\n",
       "      <td>Hip-hop</td>\n",
       "      <td>0.028395</td>\n",
       "      <td>...</td>\n",
       "      <td>0.0</td>\n",
       "      <td>0.0</td>\n",
       "      <td>0.0</td>\n",
       "      <td>0.0</td>\n",
       "    </tr>\n",
       "    <tr>\n",
       "      <th>1</th>\n",
       "      <td>Little Things</td>\n",
       "      <td>Danni Leigh</td>\n",
       "      <td>Country</td>\n",
       "      <td>0.024862</td>\n",
       "      <td>...</td>\n",
       "      <td>0.0</td>\n",
       "      <td>0.0</td>\n",
       "      <td>0.0</td>\n",
       "      <td>0.0</td>\n",
       "    </tr>\n",
       "    <tr>\n",
       "      <th>2</th>\n",
       "      <td>Open</td>\n",
       "      <td>Afu-Ra</td>\n",
       "      <td>Hip-hop</td>\n",
       "      <td>0.052198</td>\n",
       "      <td>...</td>\n",
       "      <td>0.0</td>\n",
       "      <td>0.0</td>\n",
       "      <td>0.0</td>\n",
       "      <td>0.0</td>\n",
       "    </tr>\n",
       "  </tbody>\n",
       "</table>\n",
       "<p>3 rows × 4820 columns</p>\n",
       "</div>"
      ],
      "text/plain": [
       "           Title       Artist    Genre         i  ...  santo   pe  gee  colleg\n",
       "0   Buried Alive   Hell Razah  Hip-hop  0.028395  ...    0.0  0.0  0.0     0.0\n",
       "1  Little Things  Danni Leigh  Country  0.024862  ...    0.0  0.0  0.0     0.0\n",
       "2           Open       Afu-Ra  Hip-hop  0.052198  ...    0.0  0.0  0.0     0.0\n",
       "\n",
       "[3 rows x 4820 columns]"
      ]
     },
     "execution_count": 2,
     "metadata": {},
     "output_type": "execute_result"
    }
   ],
   "source": [
    "lyrics = pd.read_csv(path_to_data)\n",
    "lyrics.head(3)"
   ]
  },
  {
   "cell_type": "markdown",
   "metadata": {
    "deletable": false,
    "editable": false,
    "nbgrader": {
     "cell_type": "markdown",
     "checksum": "ce27009ac0758e78fe6f2ca32462a475",
     "grade": false,
     "grade_id": "cell-9c3870832fa506aa",
     "locked": true,
     "schema_version": 3,
     "solution": false,
     "task": false
    }
   },
   "source": [
    "We can load the data into the table `lyrics`. Note the we have 4820 columns. "
   ]
  },
  {
   "cell_type": "code",
   "execution_count": 3,
   "metadata": {
    "deletable": false,
    "editable": false,
    "nbgrader": {
     "cell_type": "code",
     "checksum": "5021e28aebba487350ab88557eceffb8",
     "grade": false,
     "grade_id": "cell-07166a7f9c637570",
     "locked": true,
     "schema_version": 3,
     "solution": false,
     "task": false
    }
   },
   "outputs": [
    {
     "data": {
      "text/plain": [
       "Index(['Title', 'Artist', 'Genre', 'i', 'the', 'you', 'to', 'and', 'a', 'me',\n",
       "       ...\n",
       "       'seventh', 'capit', 'writer', 'motivo', 'bake', 'insist', 'santo', 'pe',\n",
       "       'gee', 'colleg'],\n",
       "      dtype='object', length=4820)"
      ]
     },
     "execution_count": 3,
     "metadata": {},
     "output_type": "execute_result"
    }
   ],
   "source": [
    "lyrics.columns"
   ]
  },
  {
   "cell_type": "markdown",
   "metadata": {
    "deletable": false,
    "editable": false,
    "nbgrader": {
     "cell_type": "markdown",
     "checksum": "46089899dd8a85455a9fd75e55cb27d7",
     "grade": false,
     "grade_id": "cell-de307e0985a12d43",
     "locked": true,
     "schema_version": 3,
     "solution": false,
     "task": false
    }
   },
   "source": [
    "Note that each song has a unique title. Besides `Title`, `Artist` and `Genre`, we have about 5000 columns corresponding to words. The columns indicate the frequency of the words in songs. "
   ]
  },
  {
   "cell_type": "code",
   "execution_count": 4,
   "metadata": {
    "deletable": false,
    "editable": false,
    "nbgrader": {
     "cell_type": "code",
     "checksum": "18405c12d506f90e2c87adf87436080c",
     "grade": false,
     "grade_id": "cell-232cdf5b0d9220ed",
     "locked": true,
     "schema_version": 3,
     "solution": false,
     "task": false
    }
   },
   "outputs": [
    {
     "data": {
      "text/html": [
       "<div>\n",
       "<style scoped>\n",
       "    .dataframe tbody tr th:only-of-type {\n",
       "        vertical-align: middle;\n",
       "    }\n",
       "\n",
       "    .dataframe tbody tr th {\n",
       "        vertical-align: top;\n",
       "    }\n",
       "\n",
       "    .dataframe thead th {\n",
       "        text-align: right;\n",
       "    }\n",
       "</style>\n",
       "<table border=\"1\" class=\"dataframe\">\n",
       "  <thead>\n",
       "    <tr style=\"text-align: right;\">\n",
       "      <th></th>\n",
       "      <th>Title</th>\n",
       "      <th>Artist</th>\n",
       "      <th>Genre</th>\n",
       "      <th>like</th>\n",
       "      <th>love</th>\n",
       "      <th>the</th>\n",
       "    </tr>\n",
       "  </thead>\n",
       "  <tbody>\n",
       "    <tr>\n",
       "      <th>962</th>\n",
       "      <td>In Your Eyes</td>\n",
       "      <td>Alison Krauss</td>\n",
       "      <td>Country</td>\n",
       "      <td>0.011905</td>\n",
       "      <td>0.059524</td>\n",
       "      <td>0.0</td>\n",
       "    </tr>\n",
       "  </tbody>\n",
       "</table>\n",
       "</div>"
      ],
      "text/plain": [
       "            Title         Artist    Genre      like      love  the\n",
       "962  In Your Eyes  Alison Krauss  Country  0.011905  0.059524  0.0"
      ]
     },
     "execution_count": 4,
     "metadata": {},
     "output_type": "execute_result"
    }
   ],
   "source": [
    "lyrics.loc[lyrics[\"Title\"] == \"In Your Eyes\",['Title', 'Artist', 'Genre','like','love','the']]"
   ]
  },
  {
   "cell_type": "markdown",
   "metadata": {
    "deletable": false,
    "editable": false,
    "nbgrader": {
     "cell_type": "markdown",
     "checksum": "995a6ad344847f5f6b7c130a7abd8f5d",
     "grade": false,
     "grade_id": "cell-ae0fe80b3f93e28e",
     "locked": true,
     "schema_version": 3,
     "solution": false,
     "task": false
    }
   },
   "source": [
    "Here we have a few columns from the row for the country song \"In Your Eyes\" by Alison Krauss. The song contains 168 words. The word `like` appears two times  $$\\frac{2}{168} \\approx 0.0119$$ The word `love` appears 10 times $$\\frac{10}{168} \\approx 0.0595$$ The word `the` does not appear in the song. "
   ]
  },
  {
   "cell_type": "code",
   "execution_count": 5,
   "metadata": {
    "deletable": false,
    "editable": false,
    "nbgrader": {
     "cell_type": "code",
     "checksum": "eb3f603d8fbff5196160ef8d69ef142e",
     "grade": false,
     "grade_id": "cell-981bd30876e300f1",
     "locked": true,
     "schema_version": 3,
     "solution": false,
     "task": false
    }
   },
   "outputs": [
    {
     "data": {
      "text/plain": [
       "0       1.0\n",
       "1       1.0\n",
       "2       1.0\n",
       "3       1.0\n",
       "4       1.0\n",
       "       ... \n",
       "1664    1.0\n",
       "1665    1.0\n",
       "1666    1.0\n",
       "1667    1.0\n",
       "1668    1.0\n",
       "Length: 1669, dtype: float64"
      ]
     },
     "execution_count": 5,
     "metadata": {},
     "output_type": "execute_result"
    }
   ],
   "source": [
    "lyrics.drop(columns = [\"Title\", \"Artist\", \"Genre\"]).sum(axis = 1)"
   ]
  },
  {
   "cell_type": "markdown",
   "metadata": {
    "deletable": false,
    "editable": false,
    "nbgrader": {
     "cell_type": "markdown",
     "checksum": "6f70099ad4347cb1dab7cdf7b613e71a",
     "grade": false,
     "grade_id": "cell-acbe42bfaf957062",
     "locked": true,
     "schema_version": 3,
     "solution": false,
     "task": false
    }
   },
   "source": [
    "Since we include any word relevant to the lyrics, the sum of the frequencies is 1. Note that we have not stored the order of words in the song. We will learn to classify songs into genres based solely on the frequency of words.\n",
    "\n",
    "#### Question 1 \n",
    "\n",
    "We have processed the text in the lyrics. We have converted letters to lower case and we have truncated words through the stemming process. The stemming process alters suffixes from related words. For example, the stemming process converts \n",
    "\n",
    "- \"manage\"\n",
    "- \"manager\"\n",
    "- \"managed\"\n",
    "- \"managerial\" \n",
    "\n",
    "to \"manag\". We say that \"manag\" is the stemmed form of \"manage\", \"manager\", etc. We have a table of words indicating the transformation. "
   ]
  },
  {
   "cell_type": "code",
   "execution_count": 6,
   "metadata": {
    "deletable": false,
    "editable": false,
    "nbgrader": {
     "cell_type": "code",
     "checksum": "0295a496178b14477884ea31d55f6ced",
     "grade": false,
     "grade_id": "cell-fe09acb7a352ed88",
     "locked": true,
     "schema_version": 3,
     "solution": false,
     "task": false
    }
   },
   "outputs": [
    {
     "data": {
      "text/html": [
       "<div>\n",
       "<style scoped>\n",
       "    .dataframe tbody tr th:only-of-type {\n",
       "        vertical-align: middle;\n",
       "    }\n",
       "\n",
       "    .dataframe tbody tr th {\n",
       "        vertical-align: top;\n",
       "    }\n",
       "\n",
       "    .dataframe thead th {\n",
       "        text-align: right;\n",
       "    }\n",
       "</style>\n",
       "<table border=\"1\" class=\"dataframe\">\n",
       "  <thead>\n",
       "    <tr style=\"text-align: right;\">\n",
       "      <th></th>\n",
       "      <th>Stem</th>\n",
       "      <th>Word</th>\n",
       "    </tr>\n",
       "  </thead>\n",
       "  <tbody>\n",
       "    <tr>\n",
       "      <th>0</th>\n",
       "      <td>día</td>\n",
       "      <td>día</td>\n",
       "    </tr>\n",
       "    <tr>\n",
       "      <th>1</th>\n",
       "      <td>pido</td>\n",
       "      <td>pido</td>\n",
       "    </tr>\n",
       "    <tr>\n",
       "      <th>2</th>\n",
       "      <td>hatr</td>\n",
       "      <td>hatred</td>\n",
       "    </tr>\n",
       "  </tbody>\n",
       "</table>\n",
       "</div>"
      ],
      "text/plain": [
       "   Stem    Word\n",
       "0   día     día\n",
       "1  pido    pido\n",
       "2  hatr  hatred"
      ]
     },
     "execution_count": 6,
     "metadata": {},
     "output_type": "execute_result"
    }
   ],
   "source": [
    "stemming = pd.read_csv(path_to_dictionary)\n",
    "stemming.head(3)"
   ]
  },
  {
   "cell_type": "markdown",
   "metadata": {
    "deletable": false,
    "editable": false,
    "nbgrader": {
     "cell_type": "markdown",
     "checksum": "b0b9d7b08866f9076ec04c02d8684dca",
     "grade": false,
     "grade_id": "cell-d6a9d294ff9f00f3",
     "locked": true,
     "schema_version": 3,
     "solution": false,
     "task": false
    }
   },
   "source": [
    "#### Question 1.1\n",
    "\n",
    "Compute the fraction of words in `stemming` that are unchanged under the stemming process. For example, words like such as \"devour\"."
   ]
  },
  {
   "cell_type": "code",
   "execution_count": 7,
   "metadata": {
    "deletable": false,
    "nbgrader": {
     "cell_type": "code",
     "checksum": "0d2e392600346bdad5d40104bda7178f",
     "grade": false,
     "grade_id": "cell-fd58bd0939a47f1d",
     "locked": false,
     "schema_version": 3,
     "solution": true,
     "task": false
    }
   },
   "outputs": [
    {
     "name": "stdout",
     "output_type": "stream",
     "text": [
      "3591\n",
      "0.7216639871382636\n"
     ]
    }
   ],
   "source": [
    "output = 0\n",
    "for row in stemming.values:\n",
    "    if row[0] == row[1]:\n",
    "        output += 1\n",
    "\n",
    "q1_1 = output / len(stemming)\n",
    "print(output)      \n",
    "print(q1_1)\n",
    "# YOUR CODE HERE\n",
    "#raise NotImplementedError()"
   ]
  },
  {
   "cell_type": "code",
   "execution_count": 8,
   "metadata": {
    "deletable": false,
    "editable": false,
    "nbgrader": {
     "cell_type": "code",
     "checksum": "c0c454f969947d5ee88498d40e3b3cdb",
     "grade": true,
     "grade_id": "cell-424cdb1dbf004c52",
     "locked": true,
     "points": 1,
     "schema_version": 3,
     "solution": false,
     "task": false
    }
   },
   "outputs": [],
   "source": [
    "# TEST \n",
    "\n",
    "assert 0 < q1_1 < 1\n"
   ]
  },
  {
   "cell_type": "markdown",
   "metadata": {
    "deletable": false,
    "editable": false,
    "nbgrader": {
     "cell_type": "markdown",
     "checksum": "b764502b43b449e33ca7cf8319f6a900",
     "grade": false,
     "grade_id": "cell-94fdda4fb78506b2",
     "locked": true,
     "schema_version": 3,
     "solution": false,
     "task": false
    }
   },
   "source": [
    "#### Question 1.2\n",
    "\n",
    "What is the stemmed form of \"message\"?"
   ]
  },
  {
   "cell_type": "code",
   "execution_count": 9,
   "metadata": {
    "deletable": false,
    "nbgrader": {
     "cell_type": "code",
     "checksum": "b8f264fa12cef33fd4236f6e249d82f7",
     "grade": false,
     "grade_id": "cell-ed986662eb6a0688",
     "locked": false,
     "schema_version": 3,
     "solution": true,
     "task": false
    }
   },
   "outputs": [
    {
     "name": "stdout",
     "output_type": "stream",
     "text": [
      "messag\n"
     ]
    }
   ],
   "source": [
    "for index, row in stemming.iterrows():\n",
    "    if row[1] == \"message\":\n",
    "        q1_2 = row[0]\n",
    "print(q1_2)\n",
    "# YOUR CODE HERE\n",
    "#raise NotImplementedError()"
   ]
  },
  {
   "cell_type": "code",
   "execution_count": 10,
   "metadata": {
    "deletable": false,
    "editable": false,
    "nbgrader": {
     "cell_type": "code",
     "checksum": "24e214dc406645bf754002146ec1e3f1",
     "grade": true,
     "grade_id": "cell-2d40e5f4e5db20db",
     "locked": true,
     "points": 1,
     "schema_version": 3,
     "solution": false,
     "task": false
    }
   },
   "outputs": [],
   "source": [
    "# TEST \n",
    "\n",
    "assert q1_2 in \"message\"\n"
   ]
  },
  {
   "cell_type": "markdown",
   "metadata": {
    "deletable": false,
    "editable": false,
    "nbgrader": {
     "cell_type": "markdown",
     "checksum": "f5fb1186a9579dd03a5700f43bda1e2a",
     "grade": false,
     "grade_id": "cell-d18fbf6f9e2bd4e2",
     "locked": true,
     "schema_version": 3,
     "solution": false,
     "task": false
    }
   },
   "source": [
    "#### Question 1.3\n",
    "\n",
    "The string \"singl\" is the stemmed form of what word? "
   ]
  },
  {
   "cell_type": "code",
   "execution_count": 1,
   "metadata": {
    "deletable": false,
    "nbgrader": {
     "cell_type": "code",
     "checksum": "db554c246e542b0b0cde442face09db1",
     "grade": false,
     "grade_id": "cell-9789b7229f323d60",
     "locked": false,
     "schema_version": 3,
     "solution": true,
     "task": false
    }
   },
   "outputs": [
    {
     "ename": "NameError",
     "evalue": "name 'stemming' is not defined",
     "output_type": "error",
     "traceback": [
      "\u001b[0;31m---------------------------------------------------------------------------\u001b[0m",
      "\u001b[0;31mNameError\u001b[0m                                 Traceback (most recent call last)",
      "\u001b[0;32m/tmp/ipykernel_83/1192922109.py\u001b[0m in \u001b[0;36m<module>\u001b[0;34m\u001b[0m\n\u001b[0;32m----> 1\u001b[0;31m \u001b[0;32mfor\u001b[0m \u001b[0mindex\u001b[0m\u001b[0;34m,\u001b[0m \u001b[0mrow\u001b[0m \u001b[0;32min\u001b[0m \u001b[0mstemming\u001b[0m\u001b[0;34m.\u001b[0m\u001b[0miterrows\u001b[0m\u001b[0;34m(\u001b[0m\u001b[0;34m)\u001b[0m\u001b[0;34m:\u001b[0m\u001b[0;34m\u001b[0m\u001b[0;34m\u001b[0m\u001b[0m\n\u001b[0m\u001b[1;32m      2\u001b[0m     \u001b[0;32mif\u001b[0m \u001b[0mrow\u001b[0m\u001b[0;34m[\u001b[0m\u001b[0;36m0\u001b[0m\u001b[0;34m]\u001b[0m \u001b[0;34m==\u001b[0m \u001b[0;34m\"singl\"\u001b[0m\u001b[0;34m:\u001b[0m\u001b[0;34m\u001b[0m\u001b[0;34m\u001b[0m\u001b[0m\n\u001b[1;32m      3\u001b[0m         \u001b[0mq1_3\u001b[0m \u001b[0;34m=\u001b[0m \u001b[0mrow\u001b[0m\u001b[0;34m[\u001b[0m\u001b[0;36m1\u001b[0m\u001b[0;34m]\u001b[0m\u001b[0;34m\u001b[0m\u001b[0;34m\u001b[0m\u001b[0m\n\u001b[1;32m      4\u001b[0m \u001b[0mprint\u001b[0m\u001b[0;34m(\u001b[0m\u001b[0mq1_3\u001b[0m\u001b[0;34m)\u001b[0m\u001b[0;34m\u001b[0m\u001b[0;34m\u001b[0m\u001b[0m\n\u001b[1;32m      5\u001b[0m \u001b[0;34m\u001b[0m\u001b[0m\n",
      "\u001b[0;31mNameError\u001b[0m: name 'stemming' is not defined"
     ]
    }
   ],
   "source": [
    "for index, row in stemming.iterrows():\n",
    "    if row[0] == \"singl\":\n",
    "        q1_3 = row[1]\n",
    "print(q1_3)\n",
    "\n",
    "# YOUR CODE HERE\n",
    "#raise NotImplementedError()"
   ]
  },
  {
   "cell_type": "code",
   "execution_count": 12,
   "metadata": {
    "deletable": false,
    "editable": false,
    "nbgrader": {
     "cell_type": "code",
     "checksum": "b2aa46df1e3fa448cea455d190ec1c09",
     "grade": true,
     "grade_id": "cell-232dce2294e37745",
     "locked": true,
     "points": 1,
     "schema_version": 3,
     "solution": false,
     "task": false
    }
   },
   "outputs": [],
   "source": [
    "# TEST \n",
    "\n",
    "assert \"singl\" in q1_3 \n"
   ]
  },
  {
   "cell_type": "markdown",
   "metadata": {
    "deletable": false,
    "editable": false,
    "nbgrader": {
     "cell_type": "markdown",
     "checksum": "e6be885f71bb9ca87d5360570c1d8237",
     "grade": false,
     "grade_id": "cell-b27ee0c760cb3122",
     "locked": true,
     "schema_version": 3,
     "solution": false,
     "task": false
    }
   },
   "source": [
    "#### Question 1.1.4\n",
    "\n",
    "We can compute the number of characters removed in the stemming process. "
   ]
  },
  {
   "cell_type": "code",
   "execution_count": 13,
   "metadata": {
    "deletable": false,
    "editable": false,
    "nbgrader": {
     "cell_type": "code",
     "checksum": "b772cfba1772b7aba4b42b78bae08611",
     "grade": false,
     "grade_id": "cell-3f553b31cdb68b9b",
     "locked": true,
     "schema_version": 3,
     "solution": false,
     "task": false
    }
   },
   "outputs": [
    {
     "data": {
      "text/html": [
       "<div>\n",
       "<style scoped>\n",
       "    .dataframe tbody tr th:only-of-type {\n",
       "        vertical-align: middle;\n",
       "    }\n",
       "\n",
       "    .dataframe tbody tr th {\n",
       "        vertical-align: top;\n",
       "    }\n",
       "\n",
       "    .dataframe thead th {\n",
       "        text-align: right;\n",
       "    }\n",
       "</style>\n",
       "<table border=\"1\" class=\"dataframe\">\n",
       "  <thead>\n",
       "    <tr style=\"text-align: right;\">\n",
       "      <th></th>\n",
       "      <th>Stem</th>\n",
       "      <th>Word</th>\n",
       "      <th>length difference</th>\n",
       "    </tr>\n",
       "  </thead>\n",
       "  <tbody>\n",
       "    <tr>\n",
       "      <th>0</th>\n",
       "      <td>día</td>\n",
       "      <td>día</td>\n",
       "      <td>0</td>\n",
       "    </tr>\n",
       "    <tr>\n",
       "      <th>1</th>\n",
       "      <td>pido</td>\n",
       "      <td>pido</td>\n",
       "      <td>0</td>\n",
       "    </tr>\n",
       "    <tr>\n",
       "      <th>2</th>\n",
       "      <td>hatr</td>\n",
       "      <td>hatred</td>\n",
       "      <td>2</td>\n",
       "    </tr>\n",
       "  </tbody>\n",
       "</table>\n",
       "</div>"
      ],
      "text/plain": [
       "   Stem    Word  length difference\n",
       "0   día     día                  0\n",
       "1  pido    pido                  0\n",
       "2  hatr  hatred                  2"
      ]
     },
     "execution_count": 13,
     "metadata": {},
     "output_type": "execute_result"
    }
   ],
   "source": [
    "stemming[\"length difference\"] = stemming[\"Word\"].str.len() - stemming[\"Stem\"].str.len()\n",
    "stemming.head(3)"
   ]
  },
  {
   "cell_type": "markdown",
   "metadata": {
    "deletable": false,
    "editable": false,
    "nbgrader": {
     "cell_type": "markdown",
     "checksum": "1d004693a98b771b0b58d83f57a8df93",
     "grade": false,
     "grade_id": "cell-f765a7e741aa417a",
     "locked": true,
     "schema_version": 3,
     "solution": false,
     "task": false
    }
   },
   "source": [
    "What word was shortened the most by the stemming process?"
   ]
  },
  {
   "cell_type": "code",
   "execution_count": 14,
   "metadata": {
    "deletable": false,
    "nbgrader": {
     "cell_type": "code",
     "checksum": "ead2f06860dd5826d1421bbb040b80e9",
     "grade": false,
     "grade_id": "cell-3b6412c19bb9dde1",
     "locked": false,
     "schema_version": 3,
     "solution": true,
     "task": false
    }
   },
   "outputs": [
    {
     "name": "stdout",
     "output_type": "stream",
     "text": [
      "international\n"
     ]
    }
   ],
   "source": [
    "max_word = stemming[\"length difference\"].max()\n",
    "for row in stemming.values:\n",
    "    if row[2] == max_word:\n",
    "        q1_4 = row[1]\n",
    "\n",
    "\n",
    "print(q1_4)\n",
    "# YOUR CODE HERE\n",
    "#raise NotImplementedError()"
   ]
  },
  {
   "cell_type": "code",
   "execution_count": 15,
   "metadata": {
    "deletable": false,
    "editable": false,
    "nbgrader": {
     "cell_type": "code",
     "checksum": "7821331a3453690cee78e7d6c62df952",
     "grade": true,
     "grade_id": "cell-66d1e2c024089afc",
     "locked": true,
     "points": 1,
     "schema_version": 3,
     "solution": false,
     "task": false
    }
   },
   "outputs": [],
   "source": [
    "# TEST \n",
    "\n",
    "assert q1_4 in stemming[\"Word\"].values\n"
   ]
  },
  {
   "cell_type": "markdown",
   "metadata": {
    "deletable": false,
    "editable": false,
    "nbgrader": {
     "cell_type": "markdown",
     "checksum": "d9f2460f94be02d9c5d14071271f109a",
     "grade": false,
     "grade_id": "cell-12002605019e04cc",
     "locked": true,
     "schema_version": 3,
     "solution": false,
     "task": false
    }
   },
   "source": [
    "### Question 2\n",
    "\n",
    "We need to split `lyrics` into two datasets called `training_set` and `testing_set`. \n",
    "\n",
    "- We will use `training_set` to determine an approach to classifying songs into genres. \n",
    "- We will compare the predicted genres and observed genres in the `testing_set`. \n",
    "\n",
    "So `training_set` will help us to make classification and `testing_set` will help us to evaluate the classifications."
   ]
  },
  {
   "cell_type": "code",
   "execution_count": 16,
   "metadata": {
    "deletable": false,
    "editable": false,
    "nbgrader": {
     "cell_type": "code",
     "checksum": "96739add3df97e18c47bcc22c9facba1",
     "grade": false,
     "grade_id": "cell-af60131d4d462b3b",
     "locked": true,
     "schema_version": 3,
     "solution": false,
     "task": false
    }
   },
   "outputs": [],
   "source": [
    "training_proportion = 0.8\n",
    "\n",
    "number_songs = len(lyrics)\n",
    "number_training = int(number_songs * training_proportion)"
   ]
  },
  {
   "cell_type": "markdown",
   "metadata": {
    "deletable": false,
    "editable": false,
    "nbgrader": {
     "cell_type": "markdown",
     "checksum": "dd6a1485990590eb89695b88adafb20d",
     "grade": false,
     "grade_id": "cell-48ee5502efbace37",
     "locked": true,
     "schema_version": 3,
     "solution": false,
     "task": false
    }
   },
   "source": [
    "We need to ensure that the `training_set` and `testing_set` contain different songs. Moreover, we should split the sets at random to avoid any patterns in the rows. For example, we should not take the `training_set` to consist of `Country` songs and the `testing_set` to consist of `Hip-hop` songs. "
   ]
  },
  {
   "cell_type": "code",
   "execution_count": 17,
   "metadata": {
    "deletable": false,
    "editable": false,
    "nbgrader": {
     "cell_type": "code",
     "checksum": "d7b65bae92e4cdf533e37a316dfe22ef",
     "grade": false,
     "grade_id": "cell-57e1dbb909cba007",
     "locked": true,
     "schema_version": 3,
     "solution": false,
     "task": false
    }
   },
   "outputs": [],
   "source": [
    "lyrics_shuffled = lyrics.sample(frac = 1, random_state = 42)\n",
    "\n",
    "training_set = lyrics_shuffled.iloc[:number_training]\n",
    "testing_set = lyrics_shuffled.iloc[number_training:]"
   ]
  },
  {
   "cell_type": "code",
   "execution_count": 18,
   "metadata": {},
   "outputs": [
    {
     "name": "stdout",
     "output_type": "stream",
     "text": [
      "                                  Title                 Artist    Genre  \\\n",
      "941              Bring It On Home To Me          Mickey Gilley  Country   \n",
      "988                 Early morning riser    Pure Prairie League  Country   \n",
      "405                           We Danced           Brad Paisley  Country   \n",
      "722           When We All Get To Heaven           Brad Paisley  Country   \n",
      "1614  Between The Daylight And The Dark          Mary Gauthier  Country   \n",
      "...                                 ...                    ...      ...   \n",
      "658                               I Can                    Nas  Hip-hop   \n",
      "1357                         Sinequanon                 Hybrid  Hip-hop   \n",
      "1019                         Taste This                    Mýa  Hip-hop   \n",
      "1599                          Duck Sick  Compton's Most Wanted  Hip-hop   \n",
      "959                            Matchbox           Carl Perkins  Country   \n",
      "\n",
      "             i  ...  santo   pe  gee  colleg  \n",
      "941   0.052632  ...    0.0  0.0  0.0     0.0  \n",
      "988   0.033962  ...    0.0  0.0  0.0     0.0  \n",
      "405   0.072289  ...    0.0  0.0  0.0     0.0  \n",
      "722   0.000000  ...    0.0  0.0  0.0     0.0  \n",
      "1614  0.000000  ...    0.0  0.0  0.0     0.0  \n",
      "...        ...  ...    ...  ...  ...     ...  \n",
      "658   0.108876  ...    0.0  0.0  0.0     0.0  \n",
      "1357  0.000000  ...    0.0  0.0  0.0     0.0  \n",
      "1019  0.051667  ...    0.0  0.0  0.0     0.0  \n",
      "1599  0.031293  ...    0.0  0.0  0.0     0.0  \n",
      "959   0.077465  ...    0.0  0.0  0.0     0.0  \n",
      "\n",
      "[1335 rows x 4820 columns]\n",
      "                                 Title                         Artist  \\\n",
      "1565           Just Say She's A Rhymer                  Mary Gauthier   \n",
      "283                John Walker's Blues                    Steve Earle   \n",
      "797     My Baby Walked Right Out On Me                  Wanda Jackson   \n",
      "1358     I Am a Man of Constant Sorrow  Alison Krauss & Union Station   \n",
      "225                                Asd                            ASD   \n",
      "...                                ...                            ...   \n",
      "1130  Marijuano Locos (Stoned Raiders)                   Cypress Hill   \n",
      "1294                         Pop A Top      Jim Ed Brown & The Browns   \n",
      "860                              Maria               Kathleen Edwards   \n",
      "1459                                Pa     Ryan Adams & The Cardinals   \n",
      "1126                  You Can Have Her      Jim Ed Brown & The Browns   \n",
      "\n",
      "        Genre         i  ...  santo   pe  gee  colleg  \n",
      "1565  Country  0.064327  ...    0.0  0.0  0.0     0.0  \n",
      "283   Country  0.038462  ...    0.0  0.0  0.0     0.0  \n",
      "797   Country  0.055046  ...    0.0  0.0  0.0     0.0  \n",
      "1358  Country  0.079602  ...    0.0  0.0  0.0     0.0  \n",
      "225   Hip-hop  0.000000  ...    0.0  0.0  0.0     0.0  \n",
      "...       ...       ...  ...    ...  ...  ...     ...  \n",
      "1130  Hip-hop  0.000000  ...    0.0  0.0  0.0     0.0  \n",
      "1294  Country  0.067708  ...    0.0  0.0  0.0     0.0  \n",
      "860   Country  0.068783  ...    0.0  0.0  0.0     0.0  \n",
      "1459  Country  0.021978  ...    0.0  0.0  0.0     0.0  \n",
      "1126  Country  0.052133  ...    0.0  0.0  0.0     0.0  \n",
      "\n",
      "[334 rows x 4820 columns]\n"
     ]
    }
   ],
   "source": [
    "print(training_set)\n",
    "print(testing_set)"
   ]
  },
  {
   "cell_type": "markdown",
   "metadata": {
    "deletable": false,
    "editable": false,
    "nbgrader": {
     "cell_type": "markdown",
     "checksum": "47d75adecb2eecf2a28dca65c6856f0f",
     "grade": false,
     "grade_id": "cell-a5d80a21e98bf565",
     "locked": true,
     "schema_version": 3,
     "solution": false,
     "task": false
    }
   },
   "source": [
    "We randomly shuffled the rows of `lyrics` with the `pandas` function `shuffle`. However we get the same `training_set` and `testing_set` each time we split `lyrics_shuffled`. The argument `random_state` allows us to have a reproducible shuffling of the data. Here 42 is an arbitrary number."
   ]
  },
  {
   "cell_type": "markdown",
   "metadata": {
    "deletable": false,
    "editable": false,
    "nbgrader": {
     "cell_type": "markdown",
     "checksum": "5f2aaa168eb7ef179da10dbc8bbface5",
     "grade": false,
     "grade_id": "cell-5cfec3b0a06d5e46",
     "locked": true,
     "schema_version": 3,
     "solution": false,
     "task": false
    }
   },
   "source": [
    "#### Question 2.1\n",
    "\n",
    "__True or False:__ We have 80\\% of the data in `training_set` and 20\\% of the data in `testing_set`."
   ]
  },
  {
   "cell_type": "code",
   "execution_count": 19,
   "metadata": {
    "deletable": false,
    "nbgrader": {
     "cell_type": "code",
     "checksum": "9569ed4b7efa86e405801be9338ce24a",
     "grade": false,
     "grade_id": "cell-3ce05bdd9911ca8b",
     "locked": false,
     "schema_version": 3,
     "solution": true,
     "task": false
    },
    "scrolled": true
   },
   "outputs": [],
   "source": [
    "q2_0 = True\n",
    "\n",
    "# YOUR CODE HERE\n",
    "#raise NotImplementedError()"
   ]
  },
  {
   "cell_type": "code",
   "execution_count": 20,
   "metadata": {
    "deletable": false,
    "editable": false,
    "nbgrader": {
     "cell_type": "code",
     "checksum": "86bbabbb456475cc6f1d91b53d2692de",
     "grade": true,
     "grade_id": "cell-af442213a7bdd4f4",
     "locked": true,
     "points": 1,
     "schema_version": 3,
     "solution": false,
     "task": false
    }
   },
   "outputs": [],
   "source": [
    "# TEST \n",
    "\n",
    "assert q2_0 in [True, False]\n"
   ]
  },
  {
   "cell_type": "markdown",
   "metadata": {
    "deletable": false,
    "editable": false,
    "nbgrader": {
     "cell_type": "markdown",
     "checksum": "6100cef8c488647452f6741e310502e5",
     "grade": false,
     "grade_id": "cell-1c9500d0ace47b53",
     "locked": true,
     "schema_version": 3,
     "solution": false,
     "task": false
    }
   },
   "source": [
    "#### Question 2.2\n",
    "\n",
    "We want to ensure that `training_set` and `testing_set` have a mix of the genres. Compute the proportion of `Country` songs in `training_set` and `testing_set`."
   ]
  },
  {
   "cell_type": "code",
   "execution_count": 21,
   "metadata": {
    "deletable": false,
    "for_assignment_type": "student",
    "manual_problem_id": "music_1_2_1",
    "nbgrader": {
     "cell_type": "code",
     "checksum": "ee152b624a3aafb6efed226f41220402",
     "grade": false,
     "grade_id": "cell-707a60a5692dea7b",
     "locked": false,
     "schema_version": 3,
     "solution": true,
     "task": false
    }
   },
   "outputs": [
    {
     "name": "stdout",
     "output_type": "stream",
     "text": [
      "0.4943820224719101\n",
      "0.5508982035928144\n"
     ]
    }
   ],
   "source": [
    "proportion_country_training = training_set[\"Genre\"].value_counts()[\"Country\"] / len(training_set)\n",
    "\n",
    "proportion_country_testing = testing_set[\"Genre\"].value_counts()[\"Country\"] / len(testing_set)\n",
    "print (proportion_country_training)\n",
    "print (proportion_country_testing)\n",
    "# YOUR CODE HERE\n",
    "#raise NotImplementedError()"
   ]
  },
  {
   "cell_type": "code",
   "execution_count": 22,
   "metadata": {
    "deletable": false,
    "editable": false,
    "nbgrader": {
     "cell_type": "code",
     "checksum": "50750af8c4e306af0309b02c10ee6f6d",
     "grade": true,
     "grade_id": "cell-e940946b9e819f01",
     "locked": true,
     "points": 2,
     "schema_version": 3,
     "solution": false,
     "task": false
    }
   },
   "outputs": [],
   "source": [
    "# TEST \n",
    "\n",
    "assert 0 < proportion_country_testing < 1\n",
    "assert 0 < proportion_country_training < 1\n"
   ]
  },
  {
   "cell_type": "markdown",
   "metadata": {
    "deletable": false,
    "editable": false,
    "nbgrader": {
     "cell_type": "markdown",
     "checksum": "42a0712d6bd78cc291708d6db513bbdc",
     "grade": false,
     "grade_id": "cell-2d94c8b3fe9a0259",
     "locked": true,
     "schema_version": 3,
     "solution": false,
     "task": false
    }
   },
   "source": [
    "We can generate a bar-chart from the proportions."
   ]
  },
  {
   "cell_type": "code",
   "execution_count": 23,
   "metadata": {
    "deletable": false,
    "editable": false,
    "for_assignment_type": "solution",
    "nbgrader": {
     "cell_type": "code",
     "checksum": "cfe3a5ebbbebd2c22a44d3275a3e789d",
     "grade": false,
     "grade_id": "cell-b1e3e885c77cd06f",
     "locked": true,
     "schema_version": 3,
     "solution": false,
     "task": false
    }
   },
   "outputs": [
    {
     "data": {
      "image/png": "[encoded data removed]",
      "text/plain": [
       "<Figure size 1000x800 with 1 Axes>"
      ]
     },
     "metadata": {},
     "output_type": "display_data"
    }
   ],
   "source": [
    "plt.barh([\"Testing\",\"Training\"], [proportion_country_testing, proportion_country_training])\n",
    "plt.title(\"Proportion of Country songs in Training/Testing sets\");"
   ]
  },
  {
   "cell_type": "markdown",
   "metadata": {
    "deletable": false,
    "editable": false,
    "nbgrader": {
     "cell_type": "markdown",
     "checksum": "95c319b492fd9e3b5df90306ac9449f3",
     "grade": false,
     "grade_id": "cell-b1c363ca10a5f6fd",
     "locked": true,
     "schema_version": 3,
     "solution": false,
     "task": false
    }
   },
   "source": [
    "### Question 3\n",
    "\n",
    "We will use the k-nearest neighbors approach to classification. \n",
    "\n",
    "Each song in `training_set` and `testing_set` has a genre `Country` or `Hip-hop` for genre. However, we need to predict a genre for the songs in `testing_set`. If we want to classify a song in `testing_set` then we compare to the songs in `training_set`. We compare songs with the frequency of words. If the frequency of words in two songs are similar, then we expect the genre of the songs to be similar.  "
   ]
  },
  {
   "cell_type": "code",
   "execution_count": 24,
   "metadata": {
    "deletable": false,
    "editable": false,
    "nbgrader": {
     "cell_type": "code",
     "checksum": "0c83d1656be06880e26f19aa1c0a10c1",
     "grade": false,
     "grade_id": "cell-91ba104e7cadb9da",
     "locked": true,
     "schema_version": 3,
     "solution": false,
     "task": false
    }
   },
   "outputs": [
    {
     "data": {
      "image/png": "[encoded data removed]",
      "text/plain": [
       "<Figure size 1000x800 with 1 Axes>"
      ]
     },
     "metadata": {},
     "output_type": "display_data"
    }
   ],
   "source": [
    "words = [\"like\", \"love\"]\n",
    "unlableled_points = [\"Sangria Wine\"]\n",
    "labeled_points = [\"In Your Eyes\", \"Insane In The Brain\"]\n",
    "\n",
    "helper_functions.generate_scatterplot(words, unlableled_points, labeled_points, testing_set, training_set)"
   ]
  },
  {
   "cell_type": "markdown",
   "metadata": {
    "deletable": false,
    "editable": false,
    "nbgrader": {
     "cell_type": "markdown",
     "checksum": "6ee7c3fe6e928f0dc6eb83e9996580f9",
     "grade": false,
     "grade_id": "cell-d0adcac2083658f2",
     "locked": true,
     "schema_version": 3,
     "solution": false,
     "task": false
    }
   },
   "source": [
    "Here we have three songs\n",
    "\n",
    "- `Sangria Wine` in the testing set\n",
    "- `In Your Eyes` and `Insane In The Brain` in the training set\n",
    "\n",
    "The genre of `Sangria Wine` is `Country`."
   ]
  },
  {
   "cell_type": "code",
   "execution_count": 25,
   "metadata": {
    "deletable": false,
    "editable": false,
    "nbgrader": {
     "cell_type": "code",
     "checksum": "fd03a4c95f006deead55b85b7d78c171",
     "grade": false,
     "grade_id": "cell-7fc6812a4c09ea99",
     "locked": true,
     "schema_version": 3,
     "solution": false,
     "task": false
    }
   },
   "outputs": [
    {
     "data": {
      "text/html": [
       "<div>\n",
       "<style scoped>\n",
       "    .dataframe tbody tr th:only-of-type {\n",
       "        vertical-align: middle;\n",
       "    }\n",
       "\n",
       "    .dataframe tbody tr th {\n",
       "        vertical-align: top;\n",
       "    }\n",
       "\n",
       "    .dataframe thead th {\n",
       "        text-align: right;\n",
       "    }\n",
       "</style>\n",
       "<table border=\"1\" class=\"dataframe\">\n",
       "  <thead>\n",
       "    <tr style=\"text-align: right;\">\n",
       "      <th></th>\n",
       "      <th>Title</th>\n",
       "      <th>Artist</th>\n",
       "      <th>Genre</th>\n",
       "      <th>i</th>\n",
       "      <th>...</th>\n",
       "      <th>santo</th>\n",
       "      <th>pe</th>\n",
       "      <th>gee</th>\n",
       "      <th>colleg</th>\n",
       "    </tr>\n",
       "  </thead>\n",
       "  <tbody>\n",
       "    <tr>\n",
       "      <th>686</th>\n",
       "      <td>Sangria Wine</td>\n",
       "      <td>Jerry Jeff Walker</td>\n",
       "      <td>Country</td>\n",
       "      <td>0.088106</td>\n",
       "      <td>...</td>\n",
       "      <td>0.0</td>\n",
       "      <td>0.0</td>\n",
       "      <td>0.0</td>\n",
       "      <td>0.0</td>\n",
       "    </tr>\n",
       "  </tbody>\n",
       "</table>\n",
       "<p>1 rows × 4820 columns</p>\n",
       "</div>"
      ],
      "text/plain": [
       "            Title             Artist    Genre         i  ...  santo   pe  gee  \\\n",
       "686  Sangria Wine  Jerry Jeff Walker  Country  0.088106  ...    0.0  0.0  0.0   \n",
       "\n",
       "     colleg  \n",
       "686     0.0  \n",
       "\n",
       "[1 rows x 4820 columns]"
      ]
     },
     "execution_count": 25,
     "metadata": {},
     "output_type": "execute_result"
    }
   ],
   "source": [
    "testing_set[testing_set[\"Title\"] == \"Sangria Wine\"]"
   ]
  },
  {
   "cell_type": "markdown",
   "metadata": {
    "deletable": false,
    "editable": false,
    "nbgrader": {
     "cell_type": "markdown",
     "checksum": "a3f31a1980307de5d4952940faea0253",
     "grade": false,
     "grade_id": "cell-f200c55da9715903",
     "locked": true,
     "schema_version": 3,
     "solution": false,
     "task": false
    }
   },
   "source": [
    "Based on the frequency of words in the lyrics, we want to predict the genre. We can compare the frequency of words in the lyrics of `Sangria Wine` to the lyrics of `In Your Eyes` and `Insance In The Brain`. Here we have the frequencies of the words `like` and `love`. We learn that `Sangria Wine` is closer to `In Your Eyes` than `Insane in the Brain`. So we would correctly classifiy `Sangria Wine` as `Country` based on the words `like` and `love`. "
   ]
  },
  {
   "cell_type": "code",
   "execution_count": 26,
   "metadata": {
    "deletable": false,
    "editable": false,
    "nbgrader": {
     "cell_type": "code",
     "checksum": "2983c9ca8c4d3a0c25412521c0d4835d",
     "grade": false,
     "grade_id": "cell-2b68bf1b5d62905f",
     "locked": true,
     "schema_version": 3,
     "solution": false,
     "task": false
    }
   },
   "outputs": [
    {
     "data": {
      "image/png": "[encoded data removed]",
      "text/plain": [
       "<Figure size 1000x800 with 1 Axes>"
      ]
     },
     "metadata": {},
     "output_type": "display_data"
    }
   ],
   "source": [
    "words = [\"like\", \"love\"]\n",
    "unlableled_points = [\"Sangria Wine\"]\n",
    "labeled_points = [\"In Your Eyes\", \"One Time\", \"Insane In The Brain\"]\n",
    "\n",
    "helper_functions.generate_scatterplot(words, unlableled_points, labeled_points, testing_set, training_set)"
   ]
  },
  {
   "cell_type": "markdown",
   "metadata": {
    "deletable": false,
    "editable": false,
    "nbgrader": {
     "cell_type": "markdown",
     "checksum": "4dfc5dffa49f53bc4e289befd9d12f25",
     "grade": false,
     "grade_id": "cell-767f93613b2eca5f",
     "locked": true,
     "schema_version": 3,
     "solution": false,
     "task": false
    }
   },
   "source": [
    "We have many other songs in the training set. The song `One Time` in the `Hip-hop` genres seems close to `Sangria Wine` based on frequency of the words `like` and `love` in the lyrics. If we need to determine the distance from `Sangria Wine` to `In Your Eyes` and the distance from `Sangria Wine` to `One Time` then we need to calculate the distance in the plane between the points. We can use the formula\n",
    "\n",
    "$$\\sqrt{(\\text{frequency of \"like\" in song 1} - \\text{frequency of \"like\" in song 2})^2 + (\\text{frequency of \"love\" in song 1} - \\text{frequency of \"love\" in song 1})^2} $$ \n",
    "\n",
    "If we think of $(\\text{frequency of \"like\" in song}, \\text{frequency of \"love\" in song})$ like coordinates in the plane, then we can compute distance between points. "
   ]
  },
  {
   "cell_type": "code",
   "execution_count": 27,
   "metadata": {
    "deletable": false,
    "editable": false,
    "nbgrader": {
     "cell_type": "code",
     "checksum": "92702a66e03fa3813d2a1210b18dab1c",
     "grade": false,
     "grade_id": "cell-f0005c5c367fba04",
     "locked": true,
     "schema_version": 3,
     "solution": false,
     "task": false
    }
   },
   "outputs": [
    {
     "data": {
      "text/plain": [
       "0.03382894432459689"
      ]
     },
     "execution_count": 27,
     "metadata": {},
     "output_type": "execute_result"
    }
   ],
   "source": [
    "in_your_eyes = training_set.loc[training_set[\"Title\"] == \"In Your Eyes\",[\"like\",\"love\"]] \n",
    "sangria_wine = testing_set.loc[testing_set[\"Title\"] == \"Sangria Wine\",[\"like\",\"love\"]]\n",
    "\n",
    "distance = np.sum((sangria_wine.values - in_your_eyes.values)**2)\n",
    "distance = np.sqrt(distance)\n",
    "\n",
    "distance"
   ]
  },
  {
   "cell_type": "code",
   "execution_count": 28,
   "metadata": {
    "deletable": false,
    "editable": false,
    "nbgrader": {
     "cell_type": "code",
     "checksum": "95c535ca7d8a6ceb1ded5be6a0e75c62",
     "grade": false,
     "grade_id": "cell-5d85b76385973f3f",
     "locked": true,
     "schema_version": 3,
     "solution": false,
     "task": false
    }
   },
   "outputs": [
    {
     "data": {
      "text/plain": [
       "0.03972572223189776"
      ]
     },
     "execution_count": 28,
     "metadata": {},
     "output_type": "execute_result"
    }
   ],
   "source": [
    "one_time = training_set.loc[training_set[\"Title\"] == \"One Time\", [\"like\",\"love\"]] \n",
    "sangria_wine = testing_set.loc[testing_set[\"Title\"] == \"Sangria Wine\", [\"like\",\"love\"]]\n",
    "\n",
    "distance = np.sum((sangria_wine.values - one_time.values)**2)\n",
    "distance = np.sqrt(distance)\n",
    "\n",
    "distance"
   ]
  },
  {
   "cell_type": "markdown",
   "metadata": {
    "deletable": false,
    "editable": false,
    "nbgrader": {
     "cell_type": "markdown",
     "checksum": "2eba5ffbc62a26919566ae2114241f77",
     "grade": false,
     "grade_id": "cell-2fb3c97087d41daf",
     "locked": true,
     "schema_version": 3,
     "solution": false,
     "task": false
    }
   },
   "source": [
    "We learn that `In Your Eyes` is closer to `Sangria Wine` than `One Time`. So we would correctly predict that `Sangria Wine` is `Country` genre based on the frequency of the words `like` and `love`. If we had many words then we could extend the formula to compute distance \n",
    "\n",
    "$$\\sqrt{(\\text{frequency of word 1 in song 1} - \\text{frequency of word 1 in song 2})^2 + \\ldots + (\\text{frequency of word N in song 1} - \\text{frequency of word N in song 1})^2} $$ \n",
    "\n",
    "Here $N$ could be $1,2,3,\\ldots$. The expression gives us a small number for similar frequencies of words and a large number for dissimilar frequencies of words.\n",
    "\n",
    "#### Question 3.1\n",
    "\n",
    "We need to write a function that caculates the distance between two songs based on a collection of words. We will write a function `distance_two_songs` with input \n",
    "\n",
    "- `row_1` : row in table corresponding to song 1\n",
    "- `row_2` : row in table corresponding to song 2\n",
    "- `words` : list of words\n",
    "\n",
    "and output the distance between the songs."
   ]
  },
  {
   "cell_type": "code",
   "execution_count": 29,
   "metadata": {
    "deletable": false,
    "nbgrader": {
     "cell_type": "code",
     "checksum": "6ee425793565a348c8b51d1f118d1f1a",
     "grade": false,
     "grade_id": "cell-066e731ad36ad5ea",
     "locked": false,
     "schema_version": 3,
     "solution": true,
     "task": false
    }
   },
   "outputs": [],
   "source": [
    "def distance_two_songs(row_1, row_2, words):\n",
    "    coordinates_1 = row_1[words]\n",
    "    coordinates_2 = row_2[words]\n",
    "\n",
    "    distance = np.sum((row_2[words].values - row_1[words].values)**2)\n",
    "    distance = np.sqrt(distance)\n",
    "    \n",
    "    # YOUR CODE HERE\n",
    "    #raise NotImplementedError()\n",
    "    \n",
    "    return distance"
   ]
  },
  {
   "cell_type": "markdown",
   "metadata": {
    "deletable": false,
    "editable": false,
    "nbgrader": {
     "cell_type": "markdown",
     "checksum": "0913d7a48d9dec873dcff2e64db40e34",
     "grade": false,
     "grade_id": "cell-8fe34a13fef4f835",
     "locked": true,
     "schema_version": 3,
     "solution": false,
     "task": false
    }
   },
   "source": [
    "Compute the distance between `In Your Eyes` and `Sangria Wine` based on the words `[\"like\",\"love\",\"the\"]`"
   ]
  },
  {
   "cell_type": "code",
   "execution_count": 30,
   "metadata": {
    "deletable": false,
    "nbgrader": {
     "cell_type": "code",
     "checksum": "624fe8e6f58d573bed65838c094617ce",
     "grade": false,
     "grade_id": "cell-24b56567a333444f",
     "locked": false,
     "schema_version": 3,
     "solution": true,
     "task": false
    }
   },
   "outputs": [],
   "source": [
    "in_your_eyes = training_set.loc[training_set[\"Title\"] == \"In Your Eyes\",:] \n",
    "sangria_wine = testing_set.loc[testing_set[\"Title\"] == \"Sangria Wine\",:]\n",
    "\n",
    "q2_1 = distance_two_songs(in_your_eyes,sangria_wine,[\"like\",\"love\",\"the\"] )\n",
    "\n",
    "# YOUR CODE HERE\n",
    "#raise NotImplementedError()"
   ]
  },
  {
   "cell_type": "code",
   "execution_count": 31,
   "metadata": {
    "deletable": false,
    "editable": false,
    "nbgrader": {
     "cell_type": "code",
     "checksum": "897700b20dd3963dffc8fc581ed51ef5",
     "grade": true,
     "grade_id": "cell-1cb3ba75f9d90d2b",
     "locked": true,
     "points": 1,
     "schema_version": 3,
     "solution": false,
     "task": false
    }
   },
   "outputs": [],
   "source": [
    "# TEST \n",
    "\n",
    "assert 0.03 < q2_1 < 0.05\n"
   ]
  },
  {
   "cell_type": "markdown",
   "metadata": {
    "deletable": false,
    "editable": false,
    "nbgrader": {
     "cell_type": "markdown",
     "checksum": "f3b7319988ee2a1080bb3bec25082dc8",
     "grade": false,
     "grade_id": "cell-40caa2bd74c82591",
     "locked": true,
     "schema_version": 3,
     "solution": false,
     "task": false
    }
   },
   "source": [
    "#### Question 3.2\n",
    "\n",
    "If we want to classify a song in `testing_set` then we need to compute distance to the songs in the `training_set`. Having written a function to compute the distance between two songs, we need to repeatedly use the function on `training_set`. We have a helper function `compute_distances` with input\n",
    "\n",
    "- `row` : row in table corresponding to song\n",
    "- `training_set` : table containing songs in `training_set`\n",
    "- `words` : list of words\n",
    "\n",
    "and output array of distances. The output contains a number for each song in `testing_set`."
   ]
  },
  {
   "cell_type": "code",
   "execution_count": 32,
   "metadata": {
    "deletable": false,
    "editable": false,
    "nbgrader": {
     "cell_type": "code",
     "checksum": "8a471543d48e6dc5822e7c73d5b80107",
     "grade": false,
     "grade_id": "cell-d6ef04a5f1918923",
     "locked": true,
     "schema_version": 3,
     "solution": false,
     "task": false
    }
   },
   "outputs": [
    {
     "data": {
      "text/plain": [
       "array([0.09519904, 0.07280497, 0.1000939 , ..., 0.0892561 , 0.09677655,\n",
       "       0.09382014])"
      ]
     },
     "execution_count": 32,
     "metadata": {},
     "output_type": "execute_result"
    }
   ],
   "source": [
    "words = [\"like\", \"love\", \"the\"]\n",
    "row = testing_set.loc[testing_set[\"Title\"] == \"Sangria Wine\", :]\n",
    "\n",
    "distance = helper_functions.compute_distances(row, training_set, words)\n",
    "distance"
   ]
  },
  {
   "cell_type": "markdown",
   "metadata": {
    "deletable": false,
    "editable": false,
    "nbgrader": {
     "cell_type": "markdown",
     "checksum": "a8b0fd6c673449773a9b4e71f982e838",
     "grade": false,
     "grade_id": "cell-befb9acf7a8e2bf6",
     "locked": true,
     "schema_version": 3,
     "solution": false,
     "task": false
    }
   },
   "source": [
    "We can add the distances to a copy of `training_set`."
   ]
  },
  {
   "cell_type": "code",
   "execution_count": 33,
   "metadata": {
    "deletable": false,
    "editable": false,
    "nbgrader": {
     "cell_type": "code",
     "checksum": "d67604b4aab6739702560c2918b87816",
     "grade": false,
     "grade_id": "cell-f9bc13e2c731a4e2",
     "locked": true,
     "schema_version": 3,
     "solution": false,
     "task": false
    }
   },
   "outputs": [
    {
     "data": {
      "text/html": [
       "<div>\n",
       "<style scoped>\n",
       "    .dataframe tbody tr th:only-of-type {\n",
       "        vertical-align: middle;\n",
       "    }\n",
       "\n",
       "    .dataframe tbody tr th {\n",
       "        vertical-align: top;\n",
       "    }\n",
       "\n",
       "    .dataframe thead th {\n",
       "        text-align: right;\n",
       "    }\n",
       "</style>\n",
       "<table border=\"1\" class=\"dataframe\">\n",
       "  <thead>\n",
       "    <tr style=\"text-align: right;\">\n",
       "      <th></th>\n",
       "      <th>Title</th>\n",
       "      <th>Artist</th>\n",
       "      <th>Genre</th>\n",
       "      <th>i</th>\n",
       "      <th>...</th>\n",
       "      <th>pe</th>\n",
       "      <th>gee</th>\n",
       "      <th>colleg</th>\n",
       "      <th>distance</th>\n",
       "    </tr>\n",
       "  </thead>\n",
       "  <tbody>\n",
       "    <tr>\n",
       "      <th>941</th>\n",
       "      <td>Bring It On Home To Me</td>\n",
       "      <td>Mickey Gilley</td>\n",
       "      <td>Country</td>\n",
       "      <td>0.052632</td>\n",
       "      <td>...</td>\n",
       "      <td>0.0</td>\n",
       "      <td>0.0</td>\n",
       "      <td>0.0</td>\n",
       "      <td>0.095199</td>\n",
       "    </tr>\n",
       "    <tr>\n",
       "      <th>988</th>\n",
       "      <td>Early morning riser</td>\n",
       "      <td>Pure Prairie League</td>\n",
       "      <td>Country</td>\n",
       "      <td>0.033962</td>\n",
       "      <td>...</td>\n",
       "      <td>0.0</td>\n",
       "      <td>0.0</td>\n",
       "      <td>0.0</td>\n",
       "      <td>0.072805</td>\n",
       "    </tr>\n",
       "    <tr>\n",
       "      <th>405</th>\n",
       "      <td>We Danced</td>\n",
       "      <td>Brad Paisley</td>\n",
       "      <td>Country</td>\n",
       "      <td>0.072289</td>\n",
       "      <td>...</td>\n",
       "      <td>0.0</td>\n",
       "      <td>0.0</td>\n",
       "      <td>0.0</td>\n",
       "      <td>0.100094</td>\n",
       "    </tr>\n",
       "  </tbody>\n",
       "</table>\n",
       "<p>3 rows × 4821 columns</p>\n",
       "</div>"
      ],
      "text/plain": [
       "                      Title               Artist    Genre         i  ...   pe  \\\n",
       "941  Bring It On Home To Me        Mickey Gilley  Country  0.052632  ...  0.0   \n",
       "988     Early morning riser  Pure Prairie League  Country  0.033962  ...  0.0   \n",
       "405               We Danced         Brad Paisley  Country  0.072289  ...  0.0   \n",
       "\n",
       "     gee  colleg  distance  \n",
       "941  0.0     0.0  0.095199  \n",
       "988  0.0     0.0  0.072805  \n",
       "405  0.0     0.0  0.100094  \n",
       "\n",
       "[3 rows x 4821 columns]"
      ]
     },
     "execution_count": 33,
     "metadata": {},
     "output_type": "execute_result"
    }
   ],
   "source": [
    "training_set_with_distance = training_set.copy()\n",
    "training_set_with_distance[\"distance\"] = distance\n",
    "training_set_with_distance.head(3)"
   ]
  },
  {
   "cell_type": "markdown",
   "metadata": {
    "deletable": false,
    "editable": false,
    "nbgrader": {
     "cell_type": "markdown",
     "checksum": "a9e77e3174f9c0358279f6835684d4a8",
     "grade": false,
     "grade_id": "cell-3eaf14219a95fc7e",
     "locked": true,
     "schema_version": 3,
     "solution": false,
     "task": false
    }
   },
   "source": [
    "Which song is closest to `Sangria Wine` based on the frequency of the words `[\"like\", \"love\", \"the\"]`?"
   ]
  },
  {
   "cell_type": "code",
   "execution_count": 34,
   "metadata": {
    "deletable": false,
    "nbgrader": {
     "cell_type": "code",
     "checksum": "4bc1f6454aac04a5b2a682afc93f2920",
     "grade": false,
     "grade_id": "cell-208e62785a7878af",
     "locked": false,
     "schema_version": 3,
     "solution": true,
     "task": false
    }
   },
   "outputs": [],
   "source": [
    "#distance_value = training_set_with_distance[\"distance\"].min()\n",
    "#for row in training_set_with_distance.values:\n",
    "#    if row[-1] == distance_value:\n",
    "#        q2_2_1 = row[0]\n",
    "#        q2_2_2 = row[2]\n",
    "#print(q2_2_1)\n",
    "#print(q2_2_2)\n",
    "q2_2_1 = \"I'm In Love\"\n",
    "# YOUR CODE HERE\n",
    "#raise NotImplementedError()"
   ]
  },
  {
   "cell_type": "code",
   "execution_count": 35,
   "metadata": {
    "deletable": false,
    "editable": false,
    "nbgrader": {
     "cell_type": "code",
     "checksum": "25a63f86541490562010b731dd17aed6",
     "grade": true,
     "grade_id": "cell-d44afef5474cc926",
     "locked": true,
     "points": 1,
     "schema_version": 3,
     "solution": false,
     "task": false
    }
   },
   "outputs": [],
   "source": [
    "# TEST \n",
    "\n",
    "assert q2_2_1 in training_set_with_distance[\"Title\"].values\n"
   ]
  },
  {
   "cell_type": "markdown",
   "metadata": {
    "deletable": false,
    "editable": false,
    "nbgrader": {
     "cell_type": "markdown",
     "checksum": "7741abb6b9d7a8a5770f79dede29241d",
     "grade": false,
     "grade_id": "cell-8ad3c8e9b40bc6b0",
     "locked": true,
     "schema_version": 3,
     "solution": false,
     "task": false
    }
   },
   "source": [
    "How would we classify `Sangria Wine` based on the genre of the nearest song? "
   ]
  },
  {
   "cell_type": "code",
   "execution_count": 36,
   "metadata": {
    "deletable": false,
    "nbgrader": {
     "cell_type": "code",
     "checksum": "09e2e41d6f9e65a33cd96c0ad446fbdf",
     "grade": false,
     "grade_id": "cell-5a7645f4a69fb09e",
     "locked": false,
     "schema_version": 3,
     "solution": true,
     "task": false
    }
   },
   "outputs": [],
   "source": [
    "q2_2_2 = \"Hip-hop\"\n",
    "\n",
    "# YOUR CODE HERE\n",
    "#raise NotImplementedError()"
   ]
  },
  {
   "cell_type": "code",
   "execution_count": 37,
   "metadata": {
    "deletable": false,
    "editable": false,
    "nbgrader": {
     "cell_type": "code",
     "checksum": "c4a76d129bee7cf74379517b1dd370d8",
     "grade": true,
     "grade_id": "cell-7382c2b2ed7ecee9",
     "locked": true,
     "points": 1,
     "schema_version": 3,
     "solution": false,
     "task": false
    }
   },
   "outputs": [],
   "source": [
    "# TEST \n",
    "\n",
    "assert q2_2_2 in [\"Country\", \"Hip-hop\"]\n"
   ]
  },
  {
   "cell_type": "markdown",
   "metadata": {
    "deletable": false,
    "editable": false,
    "nbgrader": {
     "cell_type": "markdown",
     "checksum": "b323f8cf3e7e027268df200a143a68dc",
     "grade": false,
     "grade_id": "cell-de81b7d0d213ec08",
     "locked": true,
     "schema_version": 3,
     "solution": false,
     "task": false
    }
   },
   "source": [
    "### Question 4\n",
    "\n",
    "We learn from Question 3.2 that the nearest point might have the wrong genre. So we should study many nearby points. We fix an odd number $k$ like $3,5,7,\\ldots$. We will calculate the $k$ nearest points in the `training_set` to the song in the `testing_set`. Among the $k$ nearest points will count the number of `Country` and `Hip-hop` songs. \n",
    "\n",
    "- If we have more `Country` than `Hip-hop` then we will clasify the song as `Country`\n",
    "- If we have more  `Hip-hop` than `Country` then we will clasify the song as `Hip-hop`\n",
    "\n",
    "Note that we use the same number $k$ throughout the classification. We need to evaluate the prediction to determine a choice of $k$.\n",
    "\n",
    "#### Question 4.1\n",
    "\n",
    "We take the 15 songs closest to `Sangria Wine`. Remember from Question 3 that we have used the words `[\"like\", \"love\", \"the\"]` for `training_set_with_distance`."
   ]
  },
  {
   "cell_type": "code",
   "execution_count": 38,
   "metadata": {
    "deletable": false,
    "editable": false,
    "nbgrader": {
     "cell_type": "code",
     "checksum": "8ea4254392811ae4a58f6eecd1877a6f",
     "grade": false,
     "grade_id": "cell-656a1ce02463cac5",
     "locked": true,
     "schema_version": 3,
     "solution": false,
     "task": false
    }
   },
   "outputs": [
    {
     "data": {
      "text/html": [
       "<div>\n",
       "<style scoped>\n",
       "    .dataframe tbody tr th:only-of-type {\n",
       "        vertical-align: middle;\n",
       "    }\n",
       "\n",
       "    .dataframe tbody tr th {\n",
       "        vertical-align: top;\n",
       "    }\n",
       "\n",
       "    .dataframe thead th {\n",
       "        text-align: right;\n",
       "    }\n",
       "</style>\n",
       "<table border=\"1\" class=\"dataframe\">\n",
       "  <thead>\n",
       "    <tr style=\"text-align: right;\">\n",
       "      <th></th>\n",
       "      <th>Title</th>\n",
       "      <th>Artist</th>\n",
       "      <th>Genre</th>\n",
       "      <th>i</th>\n",
       "      <th>...</th>\n",
       "      <th>pe</th>\n",
       "      <th>gee</th>\n",
       "      <th>colleg</th>\n",
       "      <th>distance</th>\n",
       "    </tr>\n",
       "  </thead>\n",
       "  <tbody>\n",
       "    <tr>\n",
       "      <th>331</th>\n",
       "      <td>I'm In Love</td>\n",
       "      <td>Evelyn Champagne\" King\"</td>\n",
       "      <td>Hip-hop</td>\n",
       "      <td>0.052045</td>\n",
       "      <td>...</td>\n",
       "      <td>0.0</td>\n",
       "      <td>0.0</td>\n",
       "      <td>0.0</td>\n",
       "      <td>0.013627</td>\n",
       "    </tr>\n",
       "    <tr>\n",
       "      <th>1061</th>\n",
       "      <td>Your Love Gets Sweeter</td>\n",
       "      <td>Finley Quaye</td>\n",
       "      <td>Hip-hop</td>\n",
       "      <td>0.029536</td>\n",
       "      <td>...</td>\n",
       "      <td>0.0</td>\n",
       "      <td>0.0</td>\n",
       "      <td>0.0</td>\n",
       "      <td>0.021870</td>\n",
       "    </tr>\n",
       "    <tr>\n",
       "      <th>1534</th>\n",
       "      <td>All My Love</td>\n",
       "      <td>112</td>\n",
       "      <td>Hip-hop</td>\n",
       "      <td>0.020073</td>\n",
       "      <td>...</td>\n",
       "      <td>0.0</td>\n",
       "      <td>0.0</td>\n",
       "      <td>0.0</td>\n",
       "      <td>0.022150</td>\n",
       "    </tr>\n",
       "    <tr>\n",
       "      <th>810</th>\n",
       "      <td>Baby Love</td>\n",
       "      <td>MC Solaar</td>\n",
       "      <td>Hip-hop</td>\n",
       "      <td>0.000000</td>\n",
       "      <td>...</td>\n",
       "      <td>0.0</td>\n",
       "      <td>0.0</td>\n",
       "      <td>0.0</td>\n",
       "      <td>0.022844</td>\n",
       "    </tr>\n",
       "    <tr>\n",
       "      <th>464</th>\n",
       "      <td>True Love Ways</td>\n",
       "      <td>Mickey Gilley</td>\n",
       "      <td>Country</td>\n",
       "      <td>0.032520</td>\n",
       "      <td>...</td>\n",
       "      <td>0.0</td>\n",
       "      <td>0.0</td>\n",
       "      <td>0.0</td>\n",
       "      <td>0.028413</td>\n",
       "    </tr>\n",
       "    <tr>\n",
       "      <th>...</th>\n",
       "      <td>...</td>\n",
       "      <td>...</td>\n",
       "      <td>...</td>\n",
       "      <td>...</td>\n",
       "      <td>...</td>\n",
       "      <td>...</td>\n",
       "      <td>...</td>\n",
       "      <td>...</td>\n",
       "      <td>...</td>\n",
       "    </tr>\n",
       "    <tr>\n",
       "      <th>409</th>\n",
       "      <td>Tumbling Down</td>\n",
       "      <td>Allison Moorer</td>\n",
       "      <td>Country</td>\n",
       "      <td>0.008130</td>\n",
       "      <td>...</td>\n",
       "      <td>0.0</td>\n",
       "      <td>0.0</td>\n",
       "      <td>0.0</td>\n",
       "      <td>0.037901</td>\n",
       "    </tr>\n",
       "    <tr>\n",
       "      <th>1049</th>\n",
       "      <td>Dear Life</td>\n",
       "      <td>Anthony Hamilton</td>\n",
       "      <td>Hip-hop</td>\n",
       "      <td>0.054795</td>\n",
       "      <td>...</td>\n",
       "      <td>0.0</td>\n",
       "      <td>0.0</td>\n",
       "      <td>0.0</td>\n",
       "      <td>0.038197</td>\n",
       "    </tr>\n",
       "    <tr>\n",
       "      <th>232</th>\n",
       "      <td>When Love Finds You</td>\n",
       "      <td>Vince Gill</td>\n",
       "      <td>Country</td>\n",
       "      <td>0.000000</td>\n",
       "      <td>...</td>\n",
       "      <td>0.0</td>\n",
       "      <td>0.0</td>\n",
       "      <td>0.0</td>\n",
       "      <td>0.039807</td>\n",
       "    </tr>\n",
       "    <tr>\n",
       "      <th>1403</th>\n",
       "      <td>The Hardest Part</td>\n",
       "      <td>Allison Moorer</td>\n",
       "      <td>Country</td>\n",
       "      <td>0.007143</td>\n",
       "      <td>...</td>\n",
       "      <td>0.0</td>\n",
       "      <td>0.0</td>\n",
       "      <td>0.0</td>\n",
       "      <td>0.039982</td>\n",
       "    </tr>\n",
       "    <tr>\n",
       "      <th>1427</th>\n",
       "      <td>My Maria</td>\n",
       "      <td>B.W. Stevenson</td>\n",
       "      <td>Country</td>\n",
       "      <td>0.071006</td>\n",
       "      <td>...</td>\n",
       "      <td>0.0</td>\n",
       "      <td>0.0</td>\n",
       "      <td>0.0</td>\n",
       "      <td>0.040006</td>\n",
       "    </tr>\n",
       "  </tbody>\n",
       "</table>\n",
       "<p>15 rows × 4821 columns</p>\n",
       "</div>"
      ],
      "text/plain": [
       "                       Title                   Artist    Genre         i  ...  \\\n",
       "331              I'm In Love  Evelyn Champagne\" King\"  Hip-hop  0.052045  ...   \n",
       "1061  Your Love Gets Sweeter             Finley Quaye  Hip-hop  0.029536  ...   \n",
       "1534             All My Love                      112  Hip-hop  0.020073  ...   \n",
       "810                Baby Love                MC Solaar  Hip-hop  0.000000  ...   \n",
       "464           True Love Ways            Mickey Gilley  Country  0.032520  ...   \n",
       "...                      ...                      ...      ...       ...  ...   \n",
       "409            Tumbling Down           Allison Moorer  Country  0.008130  ...   \n",
       "1049               Dear Life         Anthony Hamilton  Hip-hop  0.054795  ...   \n",
       "232      When Love Finds You               Vince Gill  Country  0.000000  ...   \n",
       "1403        The Hardest Part           Allison Moorer  Country  0.007143  ...   \n",
       "1427                My Maria           B.W. Stevenson  Country  0.071006  ...   \n",
       "\n",
       "       pe  gee  colleg  distance  \n",
       "331   0.0  0.0     0.0  0.013627  \n",
       "1061  0.0  0.0     0.0  0.021870  \n",
       "1534  0.0  0.0     0.0  0.022150  \n",
       "810   0.0  0.0     0.0  0.022844  \n",
       "464   0.0  0.0     0.0  0.028413  \n",
       "...   ...  ...     ...       ...  \n",
       "409   0.0  0.0     0.0  0.037901  \n",
       "1049  0.0  0.0     0.0  0.038197  \n",
       "232   0.0  0.0     0.0  0.039807  \n",
       "1403  0.0  0.0     0.0  0.039982  \n",
       "1427  0.0  0.0     0.0  0.040006  \n",
       "\n",
       "[15 rows x 4821 columns]"
      ]
     },
     "execution_count": 38,
     "metadata": {},
     "output_type": "execute_result"
    }
   ],
   "source": [
    "training_set_with_distance_top_15 = training_set_with_distance.sort_values(\"distance\", ascending = True).head(15)\n",
    "training_set_with_distance_top_15"
   ]
  },
  {
   "cell_type": "markdown",
   "metadata": {
    "deletable": false,
    "editable": false,
    "nbgrader": {
     "cell_type": "markdown",
     "checksum": "d7ccd28ce47819f2644af0f8170de135",
     "grade": false,
     "grade_id": "cell-6576d0d6a4020a44",
     "locked": true,
     "schema_version": 3,
     "solution": false,
     "task": false
    }
   },
   "source": [
    "We have a mix of `Hip-hop` and `Country` in the `Genre` column. Determine the number of `Hip-hop` songs and `Country` songs."
   ]
  },
  {
   "cell_type": "code",
   "execution_count": 39,
   "metadata": {
    "deletable": false,
    "for_assignment_type": "student",
    "manual_problem_id": "music_1_2_1",
    "nbgrader": {
     "cell_type": "code",
     "checksum": "9c573ad901c60000d7ac6c52c1128cbf",
     "grade": false,
     "grade_id": "cell-66cfca7dfb691039",
     "locked": false,
     "schema_version": 3,
     "solution": true,
     "task": false
    },
    "scrolled": true
   },
   "outputs": [
    {
     "name": "stdout",
     "output_type": "stream",
     "text": [
      "8\n",
      "7\n"
     ]
    }
   ],
   "source": [
    "count_country_nearest_neighbors = training_set_with_distance_top_15[\"Genre\"].value_counts()[\"Country\"]\n",
    "\n",
    "count_hiphop_nearest_neighbors = training_set_with_distance_top_15[\"Genre\"].value_counts()[\"Hip-hop\"]\n",
    "print(count_country_nearest_neighbors)\n",
    "print(count_hiphop_nearest_neighbors)\n",
    "# YOUR CODE HERE\n",
    "#raise NotImplementedError()"
   ]
  },
  {
   "cell_type": "code",
   "execution_count": 40,
   "metadata": {
    "deletable": false,
    "editable": false,
    "nbgrader": {
     "cell_type": "code",
     "checksum": "64984e2e8f275807ead821d24f30a9b3",
     "grade": true,
     "grade_id": "cell-a11d2e6396e4b89b",
     "locked": true,
     "points": 2,
     "schema_version": 3,
     "solution": false,
     "task": false
    }
   },
   "outputs": [],
   "source": [
    "# TEST \n",
    "\n",
    "assert 0 < count_country_nearest_neighbors < 15\n",
    "assert 0 < count_hiphop_nearest_neighbors < 15\n"
   ]
  },
  {
   "cell_type": "markdown",
   "metadata": {
    "deletable": false,
    "editable": false,
    "nbgrader": {
     "cell_type": "markdown",
     "checksum": "3b8229362aa17124e5677f7b92a685a5",
     "grade": false,
     "grade_id": "cell-b639f517e13368ea",
     "locked": true,
     "schema_version": 3,
     "solution": false,
     "task": false
    }
   },
   "source": [
    "How would we classify `Sangria Wine` based on the genres of the nearest 15 songs? "
   ]
  },
  {
   "cell_type": "code",
   "execution_count": 41,
   "metadata": {
    "deletable": false,
    "nbgrader": {
     "cell_type": "code",
     "checksum": "20acb8aac9b2a7a589770acf6678c67b",
     "grade": false,
     "grade_id": "cell-19a568a5c552f75f",
     "locked": false,
     "schema_version": 3,
     "solution": true,
     "task": false
    },
    "scrolled": false
   },
   "outputs": [],
   "source": [
    "q4_1 = \"Country\"\n",
    "\n",
    "# YOUR CODE HERE\n",
    "#raise NotImplementedError()"
   ]
  },
  {
   "cell_type": "code",
   "execution_count": 42,
   "metadata": {
    "deletable": false,
    "editable": false,
    "nbgrader": {
     "cell_type": "code",
     "checksum": "d80e47848f8ca85a895e966903f3ec5a",
     "grade": true,
     "grade_id": "cell-6e75e4376eba789a",
     "locked": true,
     "points": 1,
     "schema_version": 3,
     "solution": false,
     "task": false
    }
   },
   "outputs": [],
   "source": [
    "# TEST \n",
    "\n",
    "assert q4_1 in [\"Country\", \"Hip-hop\"]\n"
   ]
  },
  {
   "cell_type": "markdown",
   "metadata": {
    "deletable": false,
    "editable": false,
    "nbgrader": {
     "cell_type": "markdown",
     "checksum": "970ed15427c456d6f6fcf3abf91ac087",
     "grade": false,
     "grade_id": "cell-5638ac1552c0c164",
     "locked": true,
     "schema_version": 3,
     "solution": false,
     "task": false
    }
   },
   "source": [
    "#### Question 4.2\n",
    "\n",
    "Note that we need to determine the most common genre among the nearest songs. Instead of counting the number of `Country` and `Hip-hop`, we can compute the mode meaning the most common value."
   ]
  },
  {
   "cell_type": "code",
   "execution_count": 43,
   "metadata": {
    "deletable": false,
    "editable": false,
    "nbgrader": {
     "cell_type": "code",
     "checksum": "c29ab978336337e90d820fa80e0d1580",
     "grade": false,
     "grade_id": "cell-532b4680513da465",
     "locked": true,
     "schema_version": 3,
     "solution": false,
     "task": false
    }
   },
   "outputs": [],
   "source": [
    "def compute_mode(column, table):\n",
    "    return table[column].mode().values[0]"
   ]
  },
  {
   "cell_type": "markdown",
   "metadata": {
    "deletable": false,
    "editable": false,
    "nbgrader": {
     "cell_type": "markdown",
     "checksum": "7e535f66fce417a881fdbc1c9b4084a7",
     "grade": false,
     "grade_id": "cell-1059a0d51083cadf",
     "locked": true,
     "schema_version": 3,
     "solution": false,
     "task": false
    }
   },
   "source": [
    "The function `compute_mode` has input \n",
    "\n",
    "- `column` : string indicating columns of the table \n",
    "- `table` : table containing data\n",
    "\n",
    "and output the mode of a column in a table. \n",
    "\n",
    "Use `compute_mode` on the following table to predict the genre of `Sangria Wine` based on the 31 nearest songs."
   ]
  },
  {
   "cell_type": "code",
   "execution_count": 44,
   "metadata": {
    "deletable": false,
    "editable": false,
    "nbgrader": {
     "cell_type": "code",
     "checksum": "2c6ca25da8ef089cd346fa4fabda5086",
     "grade": false,
     "grade_id": "cell-1d0cf96580406a6c",
     "locked": true,
     "schema_version": 3,
     "solution": false,
     "task": false
    }
   },
   "outputs": [
    {
     "data": {
      "text/html": [
       "<div>\n",
       "<style scoped>\n",
       "    .dataframe tbody tr th:only-of-type {\n",
       "        vertical-align: middle;\n",
       "    }\n",
       "\n",
       "    .dataframe tbody tr th {\n",
       "        vertical-align: top;\n",
       "    }\n",
       "\n",
       "    .dataframe thead th {\n",
       "        text-align: right;\n",
       "    }\n",
       "</style>\n",
       "<table border=\"1\" class=\"dataframe\">\n",
       "  <thead>\n",
       "    <tr style=\"text-align: right;\">\n",
       "      <th></th>\n",
       "      <th>Title</th>\n",
       "      <th>Artist</th>\n",
       "      <th>Genre</th>\n",
       "      <th>i</th>\n",
       "      <th>...</th>\n",
       "      <th>pe</th>\n",
       "      <th>gee</th>\n",
       "      <th>colleg</th>\n",
       "      <th>distance</th>\n",
       "    </tr>\n",
       "  </thead>\n",
       "  <tbody>\n",
       "    <tr>\n",
       "      <th>331</th>\n",
       "      <td>I'm In Love</td>\n",
       "      <td>Evelyn Champagne\" King\"</td>\n",
       "      <td>Hip-hop</td>\n",
       "      <td>0.052045</td>\n",
       "      <td>...</td>\n",
       "      <td>0.0</td>\n",
       "      <td>0.0</td>\n",
       "      <td>0.0</td>\n",
       "      <td>0.013627</td>\n",
       "    </tr>\n",
       "    <tr>\n",
       "      <th>1061</th>\n",
       "      <td>Your Love Gets Sweeter</td>\n",
       "      <td>Finley Quaye</td>\n",
       "      <td>Hip-hop</td>\n",
       "      <td>0.029536</td>\n",
       "      <td>...</td>\n",
       "      <td>0.0</td>\n",
       "      <td>0.0</td>\n",
       "      <td>0.0</td>\n",
       "      <td>0.021870</td>\n",
       "    </tr>\n",
       "    <tr>\n",
       "      <th>1534</th>\n",
       "      <td>All My Love</td>\n",
       "      <td>112</td>\n",
       "      <td>Hip-hop</td>\n",
       "      <td>0.020073</td>\n",
       "      <td>...</td>\n",
       "      <td>0.0</td>\n",
       "      <td>0.0</td>\n",
       "      <td>0.0</td>\n",
       "      <td>0.022150</td>\n",
       "    </tr>\n",
       "    <tr>\n",
       "      <th>810</th>\n",
       "      <td>Baby Love</td>\n",
       "      <td>MC Solaar</td>\n",
       "      <td>Hip-hop</td>\n",
       "      <td>0.000000</td>\n",
       "      <td>...</td>\n",
       "      <td>0.0</td>\n",
       "      <td>0.0</td>\n",
       "      <td>0.0</td>\n",
       "      <td>0.022844</td>\n",
       "    </tr>\n",
       "    <tr>\n",
       "      <th>464</th>\n",
       "      <td>True Love Ways</td>\n",
       "      <td>Mickey Gilley</td>\n",
       "      <td>Country</td>\n",
       "      <td>0.032520</td>\n",
       "      <td>...</td>\n",
       "      <td>0.0</td>\n",
       "      <td>0.0</td>\n",
       "      <td>0.0</td>\n",
       "      <td>0.028413</td>\n",
       "    </tr>\n",
       "    <tr>\n",
       "      <th>...</th>\n",
       "      <td>...</td>\n",
       "      <td>...</td>\n",
       "      <td>...</td>\n",
       "      <td>...</td>\n",
       "      <td>...</td>\n",
       "      <td>...</td>\n",
       "      <td>...</td>\n",
       "      <td>...</td>\n",
       "      <td>...</td>\n",
       "    </tr>\n",
       "    <tr>\n",
       "      <th>1384</th>\n",
       "      <td>Almost in Love</td>\n",
       "      <td>Nate Dogg</td>\n",
       "      <td>Hip-hop</td>\n",
       "      <td>0.033019</td>\n",
       "      <td>...</td>\n",
       "      <td>0.0</td>\n",
       "      <td>0.0</td>\n",
       "      <td>0.0</td>\n",
       "      <td>0.050351</td>\n",
       "    </tr>\n",
       "    <tr>\n",
       "      <th>163</th>\n",
       "      <td>You Will Be My Ain True Love</td>\n",
       "      <td>Alison Krauss</td>\n",
       "      <td>Country</td>\n",
       "      <td>0.021739</td>\n",
       "      <td>...</td>\n",
       "      <td>0.0</td>\n",
       "      <td>0.0</td>\n",
       "      <td>0.0</td>\n",
       "      <td>0.050883</td>\n",
       "    </tr>\n",
       "    <tr>\n",
       "      <th>1131</th>\n",
       "      <td>My Babe</td>\n",
       "      <td>Mickey Gilley</td>\n",
       "      <td>Country</td>\n",
       "      <td>0.045226</td>\n",
       "      <td>...</td>\n",
       "      <td>0.0</td>\n",
       "      <td>0.0</td>\n",
       "      <td>0.0</td>\n",
       "      <td>0.052349</td>\n",
       "    </tr>\n",
       "    <tr>\n",
       "      <th>1079</th>\n",
       "      <td>A Love That Will Never Grow Old</td>\n",
       "      <td>Emmylou Harris</td>\n",
       "      <td>Country</td>\n",
       "      <td>0.045198</td>\n",
       "      <td>...</td>\n",
       "      <td>0.0</td>\n",
       "      <td>0.0</td>\n",
       "      <td>0.0</td>\n",
       "      <td>0.053342</td>\n",
       "    </tr>\n",
       "    <tr>\n",
       "      <th>54</th>\n",
       "      <td>Mama Knew Love</td>\n",
       "      <td>Anthony Hamilton</td>\n",
       "      <td>Hip-hop</td>\n",
       "      <td>0.038660</td>\n",
       "      <td>...</td>\n",
       "      <td>0.0</td>\n",
       "      <td>0.0</td>\n",
       "      <td>0.0</td>\n",
       "      <td>0.053709</td>\n",
       "    </tr>\n",
       "  </tbody>\n",
       "</table>\n",
       "<p>31 rows × 4821 columns</p>\n",
       "</div>"
      ],
      "text/plain": [
       "                                Title                   Artist    Genre  \\\n",
       "331                       I'm In Love  Evelyn Champagne\" King\"  Hip-hop   \n",
       "1061           Your Love Gets Sweeter             Finley Quaye  Hip-hop   \n",
       "1534                      All My Love                      112  Hip-hop   \n",
       "810                         Baby Love                MC Solaar  Hip-hop   \n",
       "464                    True Love Ways            Mickey Gilley  Country   \n",
       "...                               ...                      ...      ...   \n",
       "1384                   Almost in Love                Nate Dogg  Hip-hop   \n",
       "163      You Will Be My Ain True Love            Alison Krauss  Country   \n",
       "1131                          My Babe            Mickey Gilley  Country   \n",
       "1079  A Love That Will Never Grow Old           Emmylou Harris  Country   \n",
       "54                     Mama Knew Love         Anthony Hamilton  Hip-hop   \n",
       "\n",
       "             i  ...   pe  gee  colleg  distance  \n",
       "331   0.052045  ...  0.0  0.0     0.0  0.013627  \n",
       "1061  0.029536  ...  0.0  0.0     0.0  0.021870  \n",
       "1534  0.020073  ...  0.0  0.0     0.0  0.022150  \n",
       "810   0.000000  ...  0.0  0.0     0.0  0.022844  \n",
       "464   0.032520  ...  0.0  0.0     0.0  0.028413  \n",
       "...        ...  ...  ...  ...     ...       ...  \n",
       "1384  0.033019  ...  0.0  0.0     0.0  0.050351  \n",
       "163   0.021739  ...  0.0  0.0     0.0  0.050883  \n",
       "1131  0.045226  ...  0.0  0.0     0.0  0.052349  \n",
       "1079  0.045198  ...  0.0  0.0     0.0  0.053342  \n",
       "54    0.038660  ...  0.0  0.0     0.0  0.053709  \n",
       "\n",
       "[31 rows x 4821 columns]"
      ]
     },
     "execution_count": 44,
     "metadata": {},
     "output_type": "execute_result"
    }
   ],
   "source": [
    "training_set_with_distance_top_31 = training_set_with_distance.sort_values(\"distance\", ascending = True).head(31)\n",
    "training_set_with_distance_top_31"
   ]
  },
  {
   "cell_type": "code",
   "execution_count": 45,
   "metadata": {
    "deletable": false,
    "nbgrader": {
     "cell_type": "code",
     "checksum": "1cf66eb06acf6909ffa0f72230ade9c2",
     "grade": false,
     "grade_id": "cell-086f068b358bd323",
     "locked": false,
     "schema_version": 3,
     "solution": true,
     "task": false
    }
   },
   "outputs": [],
   "source": [
    "q4_2 = compute_mode(\"Genre\", training_set_with_distance_top_31)\n",
    "\n",
    "# YOUR CODE HERE\n",
    "#raise NotImplementedError()"
   ]
  },
  {
   "cell_type": "code",
   "execution_count": 46,
   "metadata": {
    "deletable": false,
    "editable": false,
    "nbgrader": {
     "cell_type": "code",
     "checksum": "d8b66d90f1288356d0561fac7cf33430",
     "grade": true,
     "grade_id": "cell-d64e0a1b8a3d9db8",
     "locked": true,
     "points": 1,
     "schema_version": 3,
     "solution": false,
     "task": false
    }
   },
   "outputs": [],
   "source": [
    "# TEST \n",
    "\n",
    "assert q4_2 in [\"Country\", \"Hip-hop\"]\n"
   ]
  },
  {
   "cell_type": "markdown",
   "metadata": {
    "deletable": false,
    "editable": false,
    "nbgrader": {
     "cell_type": "markdown",
     "checksum": "43a915c5b43e3d93ff96fffecdae6422",
     "grade": false,
     "grade_id": "cell-17d2526fb08bbcd1",
     "locked": true,
     "schema_version": 3,
     "solution": false,
     "task": false
    }
   },
   "source": [
    "### Question 5\n",
    "\n",
    "We have been working with the words `[\"like\", \"love\", \"the\"]`. However, we need to choose words that help us to differentiate between genres. Based on common words in the `Country` and `Hip-hop` genres, we will try the words `[\"street\",\"style\",\"truck\",\"lone\"]`. "
   ]
  },
  {
   "cell_type": "code",
   "execution_count": 47,
   "metadata": {
    "deletable": false,
    "editable": false,
    "nbgrader": {
     "cell_type": "code",
     "checksum": "6f6c4bf7a4a47ea6ffb849c7439edc65",
     "grade": false,
     "grade_id": "cell-ab3a0820d51a9fe2",
     "locked": true,
     "schema_version": 3,
     "solution": false,
     "task": false
    }
   },
   "outputs": [],
   "source": [
    "words = [\"like\",\"love\",\"the\",\"street\",\"style\",\"truck\",\"lone\"]"
   ]
  },
  {
   "cell_type": "markdown",
   "metadata": {
    "deletable": false,
    "editable": false,
    "nbgrader": {
     "cell_type": "markdown",
     "checksum": "1dc5e96db608fc1d86e8c519281db369",
     "grade": false,
     "grade_id": "cell-76a90ee26cba3903",
     "locked": true,
     "schema_version": 3,
     "solution": false,
     "task": false
    }
   },
   "source": [
    "We want to calculate the accuracy of the predictions to determine the relevance of these words to classifying songs into genres. \n",
    "\n",
    "#### Question 5.1\n",
    "\n",
    "We can make a copy of the training set. We will add a column with the distance to a song in the testing set."
   ]
  },
  {
   "cell_type": "code",
   "execution_count": 48,
   "metadata": {
    "deletable": false,
    "editable": false,
    "nbgrader": {
     "cell_type": "code",
     "checksum": "6a39f43f6cd64284bc290166214ebe56",
     "grade": false,
     "grade_id": "cell-301f7e56f021f752",
     "locked": true,
     "schema_version": 3,
     "solution": false,
     "task": false
    }
   },
   "outputs": [],
   "source": [
    "training_set_with_distance = training_set.copy()"
   ]
  },
  {
   "cell_type": "markdown",
   "metadata": {
    "deletable": false,
    "editable": false,
    "nbgrader": {
     "cell_type": "markdown",
     "checksum": "be3f4a3176fed2167585172cfdbae294",
     "grade": false,
     "grade_id": "cell-18d09aef32e2e20f",
     "locked": true,
     "schema_version": 3,
     "solution": false,
     "task": false
    }
   },
   "source": [
    "Here we will take $k=15$. "
   ]
  },
  {
   "cell_type": "code",
   "execution_count": 49,
   "metadata": {
    "deletable": false,
    "editable": false,
    "nbgrader": {
     "cell_type": "code",
     "checksum": "482a57e93cba0686591c3e5ec1601e3e",
     "grade": false,
     "grade_id": "cell-0bde14d80b8ac743",
     "locked": true,
     "schema_version": 3,
     "solution": false,
     "task": false
    }
   },
   "outputs": [],
   "source": [
    "k = 15"
   ]
  },
  {
   "cell_type": "markdown",
   "metadata": {
    "deletable": false,
    "editable": false,
    "nbgrader": {
     "cell_type": "markdown",
     "checksum": "139296fd6b233f975d3f09c51a0e15d6",
     "grade": false,
     "grade_id": "cell-01ef74a1f10a0749",
     "locked": true,
     "schema_version": 3,
     "solution": false,
     "task": false
    }
   },
   "source": [
    "We need to iterate through the rows of `testing_set` to determine predictions."
   ]
  },
  {
   "cell_type": "code",
   "execution_count": 50,
   "metadata": {
    "deletable": false,
    "editable": false,
    "nbgrader": {
     "cell_type": "code",
     "checksum": "e9d8f17a9cb706d887a5944ca85f5d0b",
     "grade": false,
     "grade_id": "cell-045f3a446f9b47ed",
     "locked": true,
     "schema_version": 3,
     "solution": false,
     "task": false
    }
   },
   "outputs": [],
   "source": [
    "predictions = []\n",
    "\n",
    "# iterate through the rows of testing_set\n",
    "for idx, row in testing_set.iterrows():\n",
    "    #compute distance from a song to the songs in training_set\n",
    "    distance = helper_functions.compute_distances(row, training_set_with_distance, words)\n",
    "    training_set_with_distance[\"distance\"] = distance\n",
    "    \n",
    "    # sort the songs in traing_set by distance\n",
    "    training_set_with_distance_top_k = training_set_with_distance.sort_values(\"distance\", ascending = True).head(k)\n",
    "    \n",
    "    # determine mode \n",
    "    prediction = compute_mode(\"Genre\", training_set_with_distance_top_k)\n",
    "    \n",
    "    # record the prediction\n",
    "    predictions.append(prediction)"
   ]
  },
  {
   "cell_type": "markdown",
   "metadata": {
    "deletable": false,
    "editable": false,
    "nbgrader": {
     "cell_type": "markdown",
     "checksum": "f20b0f6fb78e921627c12cbea58a665b",
     "grade": false,
     "grade_id": "cell-24f02c6effd2abc6",
     "locked": true,
     "schema_version": 3,
     "solution": false,
     "task": false
    }
   },
   "source": [
    "How many songs have we classified `Country`? How many songs have we classified `Hip-hop`?"
   ]
  },
  {
   "cell_type": "code",
   "execution_count": 51,
   "metadata": {
    "deletable": false,
    "for_assignment_type": "student",
    "manual_problem_id": "music_1_2_1",
    "nbgrader": {
     "cell_type": "code",
     "checksum": "ad096824c7fa4af107fcb2536d330d6c",
     "grade": false,
     "grade_id": "cell-8308823c76a43f12",
     "locked": false,
     "schema_version": 3,
     "solution": true,
     "task": false
    }
   },
   "outputs": [],
   "source": [
    "count_country_testing = predictions.count(\"Country\")\n",
    "count_hiphop_testing = predictions.count(\"Hip-hop\")\n",
    "\n",
    "# YOUR CODE HERE\n",
    "#raise NotImplementedError()"
   ]
  },
  {
   "cell_type": "code",
   "execution_count": 52,
   "metadata": {
    "deletable": false,
    "editable": false,
    "nbgrader": {
     "cell_type": "code",
     "checksum": "cbafecb2e186939df582809ac6b1216f",
     "grade": true,
     "grade_id": "cell-0a3e9479e75b959b",
     "locked": true,
     "points": 2,
     "schema_version": 3,
     "solution": false,
     "task": false
    }
   },
   "outputs": [],
   "source": [
    "# TEST \n",
    "\n",
    "assert 100 < count_country_testing < 200\n",
    "assert 100 < count_hiphop_testing < 200\n"
   ]
  },
  {
   "cell_type": "markdown",
   "metadata": {
    "deletable": false,
    "editable": false,
    "nbgrader": {
     "cell_type": "markdown",
     "checksum": "df2ebc11ff98af2384e9732a805ac772",
     "grade": false,
     "grade_id": "cell-b86a2b605f38aedd",
     "locked": true,
     "schema_version": 3,
     "solution": false,
     "task": false
    }
   },
   "source": [
    "#### Question 5.2\n",
    "\n",
    "We can compute the accuracy of the predictions. Here we need to calculate\n",
    "\n",
    "$$\\displaystyle \\frac{\\text{number correct predictions}}{\\text{number of predictions}}$$\n",
    "\n",
    "We can add `predictions` to a copy of `testing_set`."
   ]
  },
  {
   "cell_type": "code",
   "execution_count": 53,
   "metadata": {
    "deletable": false,
    "editable": false,
    "nbgrader": {
     "cell_type": "code",
     "checksum": "3ab3d26b45328db67459b233a70b397c",
     "grade": false,
     "grade_id": "cell-832ef21ad7af9adf",
     "locked": true,
     "schema_version": 3,
     "solution": false,
     "task": false
    }
   },
   "outputs": [
    {
     "data": {
      "text/html": [
       "<div>\n",
       "<style scoped>\n",
       "    .dataframe tbody tr th:only-of-type {\n",
       "        vertical-align: middle;\n",
       "    }\n",
       "\n",
       "    .dataframe tbody tr th {\n",
       "        vertical-align: top;\n",
       "    }\n",
       "\n",
       "    .dataframe thead th {\n",
       "        text-align: right;\n",
       "    }\n",
       "</style>\n",
       "<table border=\"1\" class=\"dataframe\">\n",
       "  <thead>\n",
       "    <tr style=\"text-align: right;\">\n",
       "      <th></th>\n",
       "      <th>Title</th>\n",
       "      <th>Artist</th>\n",
       "      <th>Genre</th>\n",
       "      <th>i</th>\n",
       "      <th>...</th>\n",
       "      <th>pe</th>\n",
       "      <th>gee</th>\n",
       "      <th>colleg</th>\n",
       "      <th>predictions</th>\n",
       "    </tr>\n",
       "  </thead>\n",
       "  <tbody>\n",
       "    <tr>\n",
       "      <th>1565</th>\n",
       "      <td>Just Say She's A Rhymer</td>\n",
       "      <td>Mary Gauthier</td>\n",
       "      <td>Country</td>\n",
       "      <td>0.064327</td>\n",
       "      <td>...</td>\n",
       "      <td>0.0</td>\n",
       "      <td>0.0</td>\n",
       "      <td>0.0</td>\n",
       "      <td>Country</td>\n",
       "    </tr>\n",
       "    <tr>\n",
       "      <th>283</th>\n",
       "      <td>John Walker's Blues</td>\n",
       "      <td>Steve Earle</td>\n",
       "      <td>Country</td>\n",
       "      <td>0.038462</td>\n",
       "      <td>...</td>\n",
       "      <td>0.0</td>\n",
       "      <td>0.0</td>\n",
       "      <td>0.0</td>\n",
       "      <td>Hip-hop</td>\n",
       "    </tr>\n",
       "    <tr>\n",
       "      <th>797</th>\n",
       "      <td>My Baby Walked Right Out On Me</td>\n",
       "      <td>Wanda Jackson</td>\n",
       "      <td>Country</td>\n",
       "      <td>0.055046</td>\n",
       "      <td>...</td>\n",
       "      <td>0.0</td>\n",
       "      <td>0.0</td>\n",
       "      <td>0.0</td>\n",
       "      <td>Country</td>\n",
       "    </tr>\n",
       "  </tbody>\n",
       "</table>\n",
       "<p>3 rows × 4821 columns</p>\n",
       "</div>"
      ],
      "text/plain": [
       "                               Title         Artist    Genre         i  ...  \\\n",
       "1565         Just Say She's A Rhymer  Mary Gauthier  Country  0.064327  ...   \n",
       "283              John Walker's Blues    Steve Earle  Country  0.038462  ...   \n",
       "797   My Baby Walked Right Out On Me  Wanda Jackson  Country  0.055046  ...   \n",
       "\n",
       "       pe  gee  colleg  predictions  \n",
       "1565  0.0  0.0     0.0      Country  \n",
       "283   0.0  0.0     0.0      Hip-hop  \n",
       "797   0.0  0.0     0.0      Country  \n",
       "\n",
       "[3 rows x 4821 columns]"
      ]
     },
     "execution_count": 53,
     "metadata": {},
     "output_type": "execute_result"
    }
   ],
   "source": [
    "testing_set_with_predictions = testing_set.copy()\n",
    "testing_set_with_predictions[\"predictions\"] = predictions\n",
    "testing_set_with_predictions.head(3)"
   ]
  },
  {
   "cell_type": "markdown",
   "metadata": {
    "deletable": false,
    "editable": false,
    "nbgrader": {
     "cell_type": "markdown",
     "checksum": "1ffacf81e4ec0662fc93c450f833a82c",
     "grade": false,
     "grade_id": "cell-2be3c474d6296507",
     "locked": true,
     "schema_version": 3,
     "solution": false,
     "task": false
    }
   },
   "source": [
    "We can compare the `Genre` column and the `predictions` column."
   ]
  },
  {
   "cell_type": "code",
   "execution_count": 54,
   "metadata": {
    "deletable": false,
    "editable": false,
    "nbgrader": {
     "cell_type": "code",
     "checksum": "78627ceb7053ad14f14db7faca6a290f",
     "grade": false,
     "grade_id": "cell-2fe5bcb7f64f0e02",
     "locked": true,
     "schema_version": 3,
     "solution": false,
     "task": false
    }
   },
   "outputs": [
    {
     "data": {
      "text/plain": [
       "0.6706586826347305"
      ]
     },
     "execution_count": 54,
     "metadata": {},
     "output_type": "execute_result"
    }
   ],
   "source": [
    "accuracy = np.sum(testing_set_with_predictions[\"Genre\"] == testing_set_with_predictions[\"predictions\"]) / len(testing_set_with_predictions)\n",
    "accuracy"
   ]
  },
  {
   "cell_type": "markdown",
   "metadata": {
    "deletable": false,
    "editable": false,
    "nbgrader": {
     "cell_type": "markdown",
     "checksum": "dabf0e7a61e0dc961aa1a81d7106a454",
     "grade": false,
     "grade_id": "cell-d79bce11aa0a5141",
     "locked": true,
     "schema_version": 3,
     "solution": false,
     "task": false
    }
   },
   "source": [
    "We find that 67\\% of the classification are correct. \n",
    "\n",
    "If we used $k=31$ then what is the accurcy of the classifications?"
   ]
  },
  {
   "cell_type": "code",
   "execution_count": 55,
   "metadata": {
    "deletable": false,
    "for_assignment_type": "student",
    "manual_problem_id": "music_1_2_1",
    "nbgrader": {
     "cell_type": "code",
     "checksum": "f2e65209595cffbb20ecff3cbdb5f5f7",
     "grade": false,
     "grade_id": "cell-24e6a4c5bbf16aba",
     "locked": false,
     "schema_version": 3,
     "solution": true,
     "task": false
    }
   },
   "outputs": [],
   "source": [
    "k = 31\n",
    "\n",
    "predictions_1 = []\n",
    "\n",
    "# iterate through the rows of testing_set\n",
    "for idx, row in testing_set.iterrows():\n",
    "    #compute distance from a song to the songs in training_set\n",
    "    distance = helper_functions.compute_distances(row, training_set_with_distance, words)\n",
    "    training_set_with_distance[\"distance\"] = distance\n",
    "    \n",
    "    # sort the songs in traing_set by distance\n",
    "    training_set_with_distance_top_k = training_set_with_distance.sort_values(\"distance\", ascending = True).head(k)\n",
    "    \n",
    "    # determine mode \n",
    "    prediction = compute_mode(\"Genre\", training_set_with_distance_top_k)\n",
    "    \n",
    "    # record the prediction\n",
    "    predictions_1.append(prediction)\n",
    "\n",
    "    testing_set_with_predictions = testing_set.copy()\n",
    "testing_set_with_predictions[\"predictions\"] = predictions_1\n",
    "testing_set_with_predictions.head(3) \n",
    "q5_2 = np.sum(testing_set_with_predictions[\"Genre\"] == testing_set_with_predictions[\"predictions\"]) / len(testing_set_with_predictions)\n",
    "\n",
    "# YOUR CODE HERE\n",
    "#raise NotImplementedError()"
   ]
  },
  {
   "cell_type": "code",
   "execution_count": 56,
   "metadata": {
    "deletable": false,
    "editable": false,
    "nbgrader": {
     "cell_type": "code",
     "checksum": "4bec8df73bba270fba0f1b1e3ac01d52",
     "grade": true,
     "grade_id": "cell-478e40778590dd9b",
     "locked": true,
     "points": 1,
     "schema_version": 3,
     "solution": false,
     "task": false
    }
   },
   "outputs": [],
   "source": [
    "# TEST \n",
    "\n",
    "assert 0 < q5_2 < 1\n"
   ]
  },
  {
   "cell_type": "markdown",
   "metadata": {
    "deletable": false,
    "editable": false,
    "nbgrader": {
     "cell_type": "markdown",
     "checksum": "07f0b2fc4fd72286faf2ef33f614dec5",
     "grade": false,
     "grade_id": "cell-ef7c9377583d37fb",
     "locked": true,
     "schema_version": 3,
     "solution": false,
     "task": false
    }
   },
   "source": [
    "#### Question 5.3\n",
    "\n",
    "Having computed the accuracy for $k=31$ and $k=15$, compute the accuracy for $k=7$. "
   ]
  },
  {
   "cell_type": "code",
   "execution_count": 57,
   "metadata": {
    "deletable": false,
    "for_assignment_type": "student",
    "manual_problem_id": "music_1_2_1",
    "nbgrader": {
     "cell_type": "code",
     "checksum": "151323785043e3e23b14b242c72b3b4d",
     "grade": false,
     "grade_id": "cell-376e53c42a5a4512",
     "locked": false,
     "schema_version": 3,
     "solution": true,
     "task": false
    }
   },
   "outputs": [],
   "source": [
    "k = 7\n",
    "\n",
    "predictions_2 = []\n",
    "\n",
    "# iterate through the rows of testing_set\n",
    "for idx, row in testing_set.iterrows():\n",
    "    #compute distance from a song to the songs in training_set\n",
    "    distance = helper_functions.compute_distances(row, training_set_with_distance, words)\n",
    "    training_set_with_distance[\"distance\"] = distance\n",
    "    \n",
    "    # sort the songs in traing_set by distance\n",
    "    training_set_with_distance_top_k = training_set_with_distance.sort_values(\"distance\", ascending = True).head(k)\n",
    "    \n",
    "    # determine mode \n",
    "    prediction = compute_mode(\"Genre\", training_set_with_distance_top_k)\n",
    "    \n",
    "    # record the prediction\n",
    "    predictions_2.append(prediction)\n",
    "\n",
    "    testing_set_with_predictions = testing_set.copy()\n",
    "testing_set_with_predictions[\"predictions\"] = predictions_2\n",
    "testing_set_with_predictions.head(3) \n",
    "q5_3 = np.sum(testing_set_with_predictions[\"Genre\"] == testing_set_with_predictions[\"predictions\"]) / len(testing_set_with_predictions)\n",
    "\n",
    "\n",
    "# YOUR CODE HERE\n",
    "#raise NotImplementedError()"
   ]
  },
  {
   "cell_type": "code",
   "execution_count": 58,
   "metadata": {
    "deletable": false,
    "editable": false,
    "nbgrader": {
     "cell_type": "code",
     "checksum": "44537d5d810f040f609c051ba1bbdd32",
     "grade": true,
     "grade_id": "cell-49952c679ea8285b",
     "locked": true,
     "points": 1,
     "schema_version": 3,
     "solution": false,
     "task": false
    }
   },
   "outputs": [],
   "source": [
    "# TEST \n",
    "\n",
    "assert 0 < q5_3 < 1\n"
   ]
  },
  {
   "cell_type": "markdown",
   "metadata": {
    "deletable": false,
    "editable": false,
    "nbgrader": {
     "cell_type": "markdown",
     "checksum": "d0f0b3e9330b6a25178409683322a9ac",
     "grade": false,
     "grade_id": "cell-3fcce36ea4703a12",
     "locked": true,
     "schema_version": 3,
     "solution": false,
     "task": false
    }
   },
   "source": [
    "We can generate a chart to show the accuracy for different choices of $k$. "
   ]
  },
  {
   "cell_type": "code",
   "execution_count": 59,
   "metadata": {
    "deletable": false,
    "editable": false,
    "nbgrader": {
     "cell_type": "code",
     "checksum": "eb0f7298dfd1b0a5f08c324fa9d19e97",
     "grade": false,
     "grade_id": "cell-90af47cafe22d11b",
     "locked": true,
     "schema_version": 3,
     "solution": false,
     "task": false
    }
   },
   "outputs": [
    {
     "data": {
      "image/png": "[encoded data removed]",
      "text/plain": [
       "<Figure size 1000x800 with 1 Axes>"
      ]
     },
     "metadata": {},
     "output_type": "display_data"
    }
   ],
   "source": [
    "plt.plot([7,15,31], [q5_3,0.67,q5_2], \"o:\")\n",
    "\n",
    "plt.xticks([7,15,31])\n",
    "plt.ylabel(\"Accuracy\")\n",
    "plt.xlabel(\"Value of k\")\n",
    "\n",
    "plt.title('Classfication from [\"like\",\"love\",\"the\",\"street\",\"style\",\"truck\",\"lone\"]');"
   ]
  },
  {
   "cell_type": "markdown",
   "metadata": {
    "deletable": false,
    "editable": false,
    "nbgrader": {
     "cell_type": "markdown",
     "checksum": "288ac86ac63050888c168f313a194f30",
     "grade": false,
     "grade_id": "cell-67e9e103280cc2b0",
     "locked": true,
     "schema_version": 3,
     "solution": false,
     "task": false
    }
   },
   "source": [
    "We learn that $k=7$ give the most accurate classifications. If we experimented with the collection of words, then we would be able to make even more accurate classfications!"
   ]
  }
 ],
 "metadata": {
  "kernelspec": {
   "display_name": "Python [conda env:mg-gy-8413]",
   "language": "python",
   "name": "conda-env-mg-gy-8413-py"
  },
  "language_info": {
   "codemirror_mode": {
    "name": "ipython",
    "version": 3
   },
   "file_extension": ".py",
   "mimetype": "text/x-python",
   "name": "python",
   "nbconvert_exporter": "python",
   "pygments_lexer": "ipython3",
   "version": "3.7.12"
  }
 },
 "nbformat": 4,
 "nbformat_minor": 4
}
